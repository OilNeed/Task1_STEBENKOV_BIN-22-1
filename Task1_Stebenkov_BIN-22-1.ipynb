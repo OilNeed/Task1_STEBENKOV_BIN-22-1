{
 "cells": [
  {
   "cell_type": "markdown",
   "id": "a2bcccfb-5805-4dc4-b506-bac8d1920d40",
   "metadata": {},
   "source": [
    "ВАРИАНТ 2. DIAMOND.CSV"
   ]
  },
  {
   "cell_type": "code",
   "execution_count": null,
   "id": "33ce3ff3-2167-48a9-b824-948e7e1c6019",
   "metadata": {},
   "outputs": [],
   "source": [
    "# импорируем библиотеки\n",
    "import pandas as pd\n",
    "import matplotlib.pyplot as plt\n",
    "import seaborn as sns"
   ]
  },
  {
   "cell_type": "code",
   "execution_count": 7,
   "id": "a3a2c4ed-9b89-445b-b4e5-e4dd247a0dea",
   "metadata": {},
   "outputs": [],
   "source": [
    "PATH_TO_FILE: str = 'C:/Users/vitya/diamond.csv' # Загрузка набора данных\n",
    "df = pd.read_csv(PATH_TO_FILE) # функция превращение данных из CSV в DataFrame"
   ]
  },
  {
   "cell_type": "code",
   "execution_count": 8,
   "id": "b55f54ee-8483-47b7-9388-d3a347d4c063",
   "metadata": {},
   "outputs": [
    {
     "data": {
      "text/html": [
       "<div>\n",
       "<style scoped>\n",
       "    .dataframe tbody tr th:only-of-type {\n",
       "        vertical-align: middle;\n",
       "    }\n",
       "\n",
       "    .dataframe tbody tr th {\n",
       "        vertical-align: top;\n",
       "    }\n",
       "\n",
       "    .dataframe thead th {\n",
       "        text-align: right;\n",
       "    }\n",
       "</style>\n",
       "<table border=\"1\" class=\"dataframe\">\n",
       "  <thead>\n",
       "    <tr style=\"text-align: right;\">\n",
       "      <th></th>\n",
       "      <th>Carat Weight</th>\n",
       "      <th>Cut</th>\n",
       "      <th>Color</th>\n",
       "      <th>Clarity</th>\n",
       "      <th>Polish</th>\n",
       "      <th>Symmetry</th>\n",
       "      <th>Report</th>\n",
       "      <th>Price</th>\n",
       "    </tr>\n",
       "  </thead>\n",
       "  <tbody>\n",
       "    <tr>\n",
       "      <th>0</th>\n",
       "      <td>1.10</td>\n",
       "      <td>Ideal</td>\n",
       "      <td>H</td>\n",
       "      <td>SI1</td>\n",
       "      <td>VG</td>\n",
       "      <td>EX</td>\n",
       "      <td>GIA</td>\n",
       "      <td>5169</td>\n",
       "    </tr>\n",
       "    <tr>\n",
       "      <th>1</th>\n",
       "      <td>0.83</td>\n",
       "      <td>Ideal</td>\n",
       "      <td>H</td>\n",
       "      <td>VS1</td>\n",
       "      <td>ID</td>\n",
       "      <td>ID</td>\n",
       "      <td>AGSL</td>\n",
       "      <td>3470</td>\n",
       "    </tr>\n",
       "    <tr>\n",
       "      <th>2</th>\n",
       "      <td>0.85</td>\n",
       "      <td>Ideal</td>\n",
       "      <td>H</td>\n",
       "      <td>SI1</td>\n",
       "      <td>EX</td>\n",
       "      <td>EX</td>\n",
       "      <td>GIA</td>\n",
       "      <td>3183</td>\n",
       "    </tr>\n",
       "    <tr>\n",
       "      <th>3</th>\n",
       "      <td>0.91</td>\n",
       "      <td>Ideal</td>\n",
       "      <td>E</td>\n",
       "      <td>SI1</td>\n",
       "      <td>VG</td>\n",
       "      <td>VG</td>\n",
       "      <td>GIA</td>\n",
       "      <td>4370</td>\n",
       "    </tr>\n",
       "    <tr>\n",
       "      <th>4</th>\n",
       "      <td>0.83</td>\n",
       "      <td>Ideal</td>\n",
       "      <td>G</td>\n",
       "      <td>SI1</td>\n",
       "      <td>EX</td>\n",
       "      <td>EX</td>\n",
       "      <td>GIA</td>\n",
       "      <td>3171</td>\n",
       "    </tr>\n",
       "  </tbody>\n",
       "</table>\n",
       "</div>"
      ],
      "text/plain": [
       "   Carat Weight    Cut Color Clarity Polish Symmetry Report  Price\n",
       "0          1.10  Ideal     H     SI1     VG       EX    GIA   5169\n",
       "1          0.83  Ideal     H     VS1     ID       ID   AGSL   3470\n",
       "2          0.85  Ideal     H     SI1     EX       EX    GIA   3183\n",
       "3          0.91  Ideal     E     SI1     VG       VG    GIA   4370\n",
       "4          0.83  Ideal     G     SI1     EX       EX    GIA   3171"
      ]
     },
     "execution_count": 8,
     "metadata": {},
     "output_type": "execute_result"
    }
   ],
   "source": [
    "# Вывод первых 5 строк\n",
    "df.head()"
   ]
  },
  {
   "cell_type": "code",
   "execution_count": 9,
   "id": "52dd9b0d-1add-4234-aaa5-52ecd7dd8aa3",
   "metadata": {},
   "outputs": [
    {
     "name": "stdout",
     "output_type": "stream",
     "text": [
      "<class 'pandas.core.frame.DataFrame'>\n",
      "RangeIndex: 6000 entries, 0 to 5999\n",
      "Data columns (total 8 columns):\n",
      " #   Column        Non-Null Count  Dtype  \n",
      "---  ------        --------------  -----  \n",
      " 0   Carat Weight  6000 non-null   float64\n",
      " 1   Cut           6000 non-null   object \n",
      " 2   Color         6000 non-null   object \n",
      " 3   Clarity       6000 non-null   object \n",
      " 4   Polish        6000 non-null   object \n",
      " 5   Symmetry      6000 non-null   object \n",
      " 6   Report        6000 non-null   object \n",
      " 7   Price         6000 non-null   int64  \n",
      "dtypes: float64(1), int64(1), object(6)\n",
      "memory usage: 375.1+ KB\n"
     ]
    }
   ],
   "source": [
    "# Информация о наборе данных\n",
    "df.info()"
   ]
  },
  {
   "cell_type": "code",
   "execution_count": 10,
   "id": "cb4eda37-aa13-4145-8a7e-23cc57160e09",
   "metadata": {},
   "outputs": [
    {
     "data": {
      "text/html": [
       "<div>\n",
       "<style scoped>\n",
       "    .dataframe tbody tr th:only-of-type {\n",
       "        vertical-align: middle;\n",
       "    }\n",
       "\n",
       "    .dataframe tbody tr th {\n",
       "        vertical-align: top;\n",
       "    }\n",
       "\n",
       "    .dataframe thead th {\n",
       "        text-align: right;\n",
       "    }\n",
       "</style>\n",
       "<table border=\"1\" class=\"dataframe\">\n",
       "  <thead>\n",
       "    <tr style=\"text-align: right;\">\n",
       "      <th></th>\n",
       "      <th>Carat Weight</th>\n",
       "      <th>Price</th>\n",
       "    </tr>\n",
       "  </thead>\n",
       "  <tbody>\n",
       "    <tr>\n",
       "      <th>count</th>\n",
       "      <td>6000.000000</td>\n",
       "      <td>6000.000000</td>\n",
       "    </tr>\n",
       "    <tr>\n",
       "      <th>mean</th>\n",
       "      <td>1.334520</td>\n",
       "      <td>11791.579333</td>\n",
       "    </tr>\n",
       "    <tr>\n",
       "      <th>std</th>\n",
       "      <td>0.475696</td>\n",
       "      <td>10184.350051</td>\n",
       "    </tr>\n",
       "    <tr>\n",
       "      <th>min</th>\n",
       "      <td>0.750000</td>\n",
       "      <td>2184.000000</td>\n",
       "    </tr>\n",
       "    <tr>\n",
       "      <th>25%</th>\n",
       "      <td>1.000000</td>\n",
       "      <td>5150.500000</td>\n",
       "    </tr>\n",
       "    <tr>\n",
       "      <th>50%</th>\n",
       "      <td>1.130000</td>\n",
       "      <td>7857.000000</td>\n",
       "    </tr>\n",
       "    <tr>\n",
       "      <th>75%</th>\n",
       "      <td>1.590000</td>\n",
       "      <td>15036.500000</td>\n",
       "    </tr>\n",
       "    <tr>\n",
       "      <th>max</th>\n",
       "      <td>2.910000</td>\n",
       "      <td>101561.000000</td>\n",
       "    </tr>\n",
       "  </tbody>\n",
       "</table>\n",
       "</div>"
      ],
      "text/plain": [
       "       Carat Weight          Price\n",
       "count   6000.000000    6000.000000\n",
       "mean       1.334520   11791.579333\n",
       "std        0.475696   10184.350051\n",
       "min        0.750000    2184.000000\n",
       "25%        1.000000    5150.500000\n",
       "50%        1.130000    7857.000000\n",
       "75%        1.590000   15036.500000\n",
       "max        2.910000  101561.000000"
      ]
     },
     "execution_count": 10,
     "metadata": {},
     "output_type": "execute_result"
    }
   ],
   "source": [
    "# Статистический разбор\n",
    "df.describe()"
   ]
  },
  {
   "cell_type": "code",
   "execution_count": 11,
   "id": "87b45320-84b4-46a0-9162-bddfbbdad4fe",
   "metadata": {},
   "outputs": [
    {
     "data": {
      "text/plain": [
       "Index(['Carat Weight', 'Cut', 'Color', 'Clarity', 'Polish', 'Symmetry',\n",
       "       'Report', 'Price'],\n",
       "      dtype='object')"
      ]
     },
     "execution_count": 11,
     "metadata": {},
     "output_type": "execute_result"
    }
   ],
   "source": [
    "# Вывод колонок в наборе данных\n",
    "df.columns"
   ]
  },
  {
   "cell_type": "code",
   "execution_count": 13,
   "id": "3d166c6f-092f-41a2-8f7e-9e43421778d3",
   "metadata": {},
   "outputs": [
    {
     "data": {
      "text/html": [
       "<div>\n",
       "<style scoped>\n",
       "    .dataframe tbody tr th:only-of-type {\n",
       "        vertical-align: middle;\n",
       "    }\n",
       "\n",
       "    .dataframe tbody tr th {\n",
       "        vertical-align: top;\n",
       "    }\n",
       "\n",
       "    .dataframe thead th {\n",
       "        text-align: right;\n",
       "    }\n",
       "</style>\n",
       "<table border=\"1\" class=\"dataframe\">\n",
       "  <thead>\n",
       "    <tr style=\"text-align: right;\">\n",
       "      <th></th>\n",
       "      <th>Carat Weight</th>\n",
       "      <th>Cut</th>\n",
       "      <th>Color</th>\n",
       "      <th>Clarity</th>\n",
       "      <th>Polish</th>\n",
       "      <th>Symmetry</th>\n",
       "      <th>Report</th>\n",
       "      <th>Price</th>\n",
       "    </tr>\n",
       "  </thead>\n",
       "  <tbody>\n",
       "    <tr>\n",
       "      <th>0</th>\n",
       "      <td>1.10</td>\n",
       "      <td>Ideal</td>\n",
       "      <td>H</td>\n",
       "      <td>SI1</td>\n",
       "      <td>VG</td>\n",
       "      <td>EX</td>\n",
       "      <td>GIA</td>\n",
       "      <td>5169</td>\n",
       "    </tr>\n",
       "    <tr>\n",
       "      <th>1</th>\n",
       "      <td>0.83</td>\n",
       "      <td>Ideal</td>\n",
       "      <td>H</td>\n",
       "      <td>VS1</td>\n",
       "      <td>ID</td>\n",
       "      <td>ID</td>\n",
       "      <td>AGSL</td>\n",
       "      <td>3470</td>\n",
       "    </tr>\n",
       "    <tr>\n",
       "      <th>2</th>\n",
       "      <td>0.85</td>\n",
       "      <td>Ideal</td>\n",
       "      <td>H</td>\n",
       "      <td>SI1</td>\n",
       "      <td>EX</td>\n",
       "      <td>EX</td>\n",
       "      <td>GIA</td>\n",
       "      <td>3183</td>\n",
       "    </tr>\n",
       "    <tr>\n",
       "      <th>3</th>\n",
       "      <td>0.91</td>\n",
       "      <td>Ideal</td>\n",
       "      <td>E</td>\n",
       "      <td>SI1</td>\n",
       "      <td>VG</td>\n",
       "      <td>VG</td>\n",
       "      <td>GIA</td>\n",
       "      <td>4370</td>\n",
       "    </tr>\n",
       "    <tr>\n",
       "      <th>4</th>\n",
       "      <td>0.83</td>\n",
       "      <td>Ideal</td>\n",
       "      <td>G</td>\n",
       "      <td>SI1</td>\n",
       "      <td>EX</td>\n",
       "      <td>EX</td>\n",
       "      <td>GIA</td>\n",
       "      <td>3171</td>\n",
       "    </tr>\n",
       "    <tr>\n",
       "      <th>...</th>\n",
       "      <td>...</td>\n",
       "      <td>...</td>\n",
       "      <td>...</td>\n",
       "      <td>...</td>\n",
       "      <td>...</td>\n",
       "      <td>...</td>\n",
       "      <td>...</td>\n",
       "      <td>...</td>\n",
       "    </tr>\n",
       "    <tr>\n",
       "      <th>5995</th>\n",
       "      <td>1.03</td>\n",
       "      <td>Ideal</td>\n",
       "      <td>D</td>\n",
       "      <td>SI1</td>\n",
       "      <td>EX</td>\n",
       "      <td>EX</td>\n",
       "      <td>GIA</td>\n",
       "      <td>6250</td>\n",
       "    </tr>\n",
       "    <tr>\n",
       "      <th>5996</th>\n",
       "      <td>1.00</td>\n",
       "      <td>Very Good</td>\n",
       "      <td>D</td>\n",
       "      <td>SI1</td>\n",
       "      <td>VG</td>\n",
       "      <td>VG</td>\n",
       "      <td>GIA</td>\n",
       "      <td>5328</td>\n",
       "    </tr>\n",
       "    <tr>\n",
       "      <th>5997</th>\n",
       "      <td>1.02</td>\n",
       "      <td>Ideal</td>\n",
       "      <td>D</td>\n",
       "      <td>SI1</td>\n",
       "      <td>EX</td>\n",
       "      <td>EX</td>\n",
       "      <td>GIA</td>\n",
       "      <td>6157</td>\n",
       "    </tr>\n",
       "    <tr>\n",
       "      <th>5998</th>\n",
       "      <td>1.27</td>\n",
       "      <td>Signature-Ideal</td>\n",
       "      <td>G</td>\n",
       "      <td>VS1</td>\n",
       "      <td>EX</td>\n",
       "      <td>EX</td>\n",
       "      <td>GIA</td>\n",
       "      <td>11206</td>\n",
       "    </tr>\n",
       "    <tr>\n",
       "      <th>5999</th>\n",
       "      <td>2.19</td>\n",
       "      <td>Ideal</td>\n",
       "      <td>E</td>\n",
       "      <td>VS1</td>\n",
       "      <td>EX</td>\n",
       "      <td>EX</td>\n",
       "      <td>GIA</td>\n",
       "      <td>30507</td>\n",
       "    </tr>\n",
       "  </tbody>\n",
       "</table>\n",
       "<p>6000 rows × 8 columns</p>\n",
       "</div>"
      ],
      "text/plain": [
       "      Carat Weight              Cut Color Clarity Polish Symmetry Report  \\\n",
       "0             1.10            Ideal     H     SI1     VG       EX    GIA   \n",
       "1             0.83            Ideal     H     VS1     ID       ID   AGSL   \n",
       "2             0.85            Ideal     H     SI1     EX       EX    GIA   \n",
       "3             0.91            Ideal     E     SI1     VG       VG    GIA   \n",
       "4             0.83            Ideal     G     SI1     EX       EX    GIA   \n",
       "...            ...              ...   ...     ...    ...      ...    ...   \n",
       "5995          1.03            Ideal     D     SI1     EX       EX    GIA   \n",
       "5996          1.00        Very Good     D     SI1     VG       VG    GIA   \n",
       "5997          1.02            Ideal     D     SI1     EX       EX    GIA   \n",
       "5998          1.27  Signature-Ideal     G     VS1     EX       EX    GIA   \n",
       "5999          2.19            Ideal     E     VS1     EX       EX    GIA   \n",
       "\n",
       "      Price  \n",
       "0      5169  \n",
       "1      3470  \n",
       "2      3183  \n",
       "3      4370  \n",
       "4      3171  \n",
       "...     ...  \n",
       "5995   6250  \n",
       "5996   5328  \n",
       "5997   6157  \n",
       "5998  11206  \n",
       "5999  30507  \n",
       "\n",
       "[6000 rows x 8 columns]"
      ]
     },
     "execution_count": 13,
     "metadata": {},
     "output_type": "execute_result"
    }
   ],
   "source": [
    "# вывод датафрейма\n",
    "df"
   ]
  },
  {
   "cell_type": "code",
   "execution_count": 14,
   "id": "4595cb20-094b-4a08-8c25-a06a3472f0bf",
   "metadata": {},
   "outputs": [
    {
     "name": "stdout",
     "output_type": "stream",
     "text": [
      "Carat Weight    float64\n",
      "Cut              object\n",
      "Color            object\n",
      "Clarity          object\n",
      "Polish           object\n",
      "Symmetry         object\n",
      "Report           object\n",
      "Price             int64\n",
      "dtype: object\n"
     ]
    }
   ],
   "source": [
    "# Список столбцов и их типов данных\n",
    "print(df.dtypes)"
   ]
  },
  {
   "cell_type": "markdown",
   "id": "2d615cbf-5952-4822-a1bb-b3f13018a3c8",
   "metadata": {},
   "source": [
    "1. Статистический разбор данных"
   ]
  },
  {
   "cell_type": "code",
   "execution_count": null,
   "id": "31b7e73d-ec60-4749-8900-6fe5e0e8e6a1",
   "metadata": {},
   "outputs": [],
   "source": [
    "Определить какие переменные являются непрерывными, а какие дискретными:\n",
    "    - Непрерывные переменные: могут принимать любое значение в диапазоне.\n",
    "    - Дискретные переменные: принимают только определенные значения (обычно целые числа).\n",
    "Ответы:\n",
    "    Непрерывные переменные: Carat Weight, Price.\n",
    "    Дискретные переменные: Cut, Color, Clarity, Polish, Symmetry, Report."
   ]
  },
  {
   "cell_type": "markdown",
   "id": "d3813e3b-93bf-4b50-b2e3-45b37a1035e7",
   "metadata": {},
   "source": [
    "2. Подсчитать количество уникальных значений для каждой переменной"
   ]
  },
  {
   "cell_type": "code",
   "execution_count": 15,
   "id": "03cd2288-3330-4b5f-999e-3d8b81cef3c4",
   "metadata": {},
   "outputs": [
    {
     "name": "stdout",
     "output_type": "stream",
     "text": [
      "Carat Weight: 196 уникальных значений\n",
      "Cut: 5 уникальных значений\n",
      "Color: 6 уникальных значений\n",
      "Clarity: 7 уникальных значений\n",
      "Polish: 4 уникальных значений\n",
      "Symmetry: 4 уникальных значений\n",
      "Report: 2 уникальных значений\n",
      "Price: 4821 уникальных значений\n"
     ]
    }
   ],
   "source": [
    "# Количество уникальных значений\n",
    "for column in df.columns:\n",
    "    print(f'{column}: {df[column].nunique()} уникальных значений')"
   ]
  },
  {
   "cell_type": "markdown",
   "id": "c327cf46-3318-4da4-a21e-d91a4daecdde",
   "metadata": {},
   "source": [
    "3. Посмотреть на статистические показатели и сделать вывод о распределении переменных:"
   ]
  },
  {
   "cell_type": "code",
   "execution_count": 16,
   "id": "225dec06-ebd8-4368-a252-3ba6e844a85f",
   "metadata": {},
   "outputs": [
    {
     "data": {
      "text/html": [
       "<div>\n",
       "<style scoped>\n",
       "    .dataframe tbody tr th:only-of-type {\n",
       "        vertical-align: middle;\n",
       "    }\n",
       "\n",
       "    .dataframe tbody tr th {\n",
       "        vertical-align: top;\n",
       "    }\n",
       "\n",
       "    .dataframe thead th {\n",
       "        text-align: right;\n",
       "    }\n",
       "</style>\n",
       "<table border=\"1\" class=\"dataframe\">\n",
       "  <thead>\n",
       "    <tr style=\"text-align: right;\">\n",
       "      <th></th>\n",
       "      <th>Carat Weight</th>\n",
       "      <th>Price</th>\n",
       "    </tr>\n",
       "  </thead>\n",
       "  <tbody>\n",
       "    <tr>\n",
       "      <th>count</th>\n",
       "      <td>6000.000000</td>\n",
       "      <td>6000.000000</td>\n",
       "    </tr>\n",
       "    <tr>\n",
       "      <th>mean</th>\n",
       "      <td>1.334520</td>\n",
       "      <td>11791.579333</td>\n",
       "    </tr>\n",
       "    <tr>\n",
       "      <th>std</th>\n",
       "      <td>0.475696</td>\n",
       "      <td>10184.350051</td>\n",
       "    </tr>\n",
       "    <tr>\n",
       "      <th>min</th>\n",
       "      <td>0.750000</td>\n",
       "      <td>2184.000000</td>\n",
       "    </tr>\n",
       "    <tr>\n",
       "      <th>25%</th>\n",
       "      <td>1.000000</td>\n",
       "      <td>5150.500000</td>\n",
       "    </tr>\n",
       "    <tr>\n",
       "      <th>50%</th>\n",
       "      <td>1.130000</td>\n",
       "      <td>7857.000000</td>\n",
       "    </tr>\n",
       "    <tr>\n",
       "      <th>75%</th>\n",
       "      <td>1.590000</td>\n",
       "      <td>15036.500000</td>\n",
       "    </tr>\n",
       "    <tr>\n",
       "      <th>max</th>\n",
       "      <td>2.910000</td>\n",
       "      <td>101561.000000</td>\n",
       "    </tr>\n",
       "  </tbody>\n",
       "</table>\n",
       "</div>"
      ],
      "text/plain": [
       "       Carat Weight          Price\n",
       "count   6000.000000    6000.000000\n",
       "mean       1.334520   11791.579333\n",
       "std        0.475696   10184.350051\n",
       "min        0.750000    2184.000000\n",
       "25%        1.000000    5150.500000\n",
       "50%        1.130000    7857.000000\n",
       "75%        1.590000   15036.500000\n",
       "max        2.910000  101561.000000"
      ]
     },
     "execution_count": 16,
     "metadata": {},
     "output_type": "execute_result"
    }
   ],
   "source": [
    "# Статистический разбор\n",
    "df.describe()"
   ]
  },
  {
   "cell_type": "markdown",
   "id": "cbcf4013-2e1a-43a5-9ee7-b25d223cf825",
   "metadata": {},
   "source": [
    "Carat Weight: общее количество алмазов - 6000, cредний вес алмазов составляет 1.33, существует умеренная изменчивость (std = 0.48) веса алмазов от среднего значения, минимальное вес алмаза 0.75, максимальный вес алмаза 2.91, медиана 1.13 означает, что 50% алмазов имеют вес больше 1.13 и меньше 1.13, 50% значений весов алмазов находится в диапазоне от 1 (25%) до 1.59 (75%)."
   ]
  },
  {
   "cell_type": "markdown",
   "id": "d8ef5fca-7bb6-4d72-a5f3-432b34bc5142",
   "metadata": {},
   "source": [
    "Price: общее количество ценников - 6000, cредний цена алмазов составляет 11792 долларов, среднего значения стандартное отклонение в 10184.35 долларов является значительной изменчивости цен алмазов, минимальное цена алмаза 2184 долларов, максимальная цена алмаза составляет 101561 долларов, медиана 7857 долларов означает, что 50% цен на алмазы дешевле и дороже 7857 долларов, 50% цен на алмазы находятся в диапазоне от 5150.5 до 15036.5 долларов."
   ]
  },
  {
   "cell_type": "markdown",
   "id": "799c367a-c14c-42c8-914e-4ced3bd5dcd9",
   "metadata": {},
   "source": [
    "4. Визуализация распределения переменных"
   ]
  },
  {
   "cell_type": "code",
   "execution_count": null,
   "id": "04349fd1-dc7a-49f5-91b9-22e62bd30f03",
   "metadata": {},
   "outputs": [],
   "source": [
    "    Создать визуализации для понимания распределения числовых и категориальных переменных."
   ]
  },
  {
   "cell_type": "markdown",
   "id": "4c50d53e-e200-4ed0-9e99-d2ebcedbd09b",
   "metadata": {},
   "source": [
    "    1. Гистограмма для числовой переменной Carat Weight"
   ]
  },
  {
   "cell_type": "code",
   "execution_count": 39,
   "id": "60c3ec30-602a-46b5-96b9-b7a8b5a701ad",
   "metadata": {},
   "outputs": [
    {
     "data": {
      "image/png": "[encoded data removed]",
      "text/plain": [
       "<Figure size 640x480 with 1 Axes>"
      ]
     },
     "metadata": {},
     "output_type": "display_data"
    }
   ],
   "source": [
    "    sns.histplot(df['Carat Weight'], kde=True)\n",
    "    plt.title('Распределение Carat Weight')\n",
    "    plt.xlabel('Carat Weight')\n",
    "    plt.ylabel('Частота')\n",
    "    plt.show()"
   ]
  },
  {
   "cell_type": "markdown",
   "id": "469d9d36-9c2f-48d0-85f9-8ea8470dfd7c",
   "metadata": {},
   "source": [
    "    Большая часть данных сосредоточена в диапазоне от 0.75 до 1.0 карата, с последующим снижением частоты, но также есть длинный хвост, указывающий на наличие более крупных камней весом до 3.0 карата. Существует два пика: один около 1.0 cправа, другой 0.8. Возможно, это говорит о том, что 1.0 и 0.8 является коммерчески популярными размерами алмазов."
   ]
  },
  {
   "cell_type": "markdown",
   "id": "e9f70de7-2d1a-4143-be19-23a535d4bc4d",
   "metadata": {},
   "source": [
    "    2. Боксплот для числовой переменной Price "
   ]
  },
  {
   "cell_type": "code",
   "execution_count": 38,
   "id": "38d5723b-c821-41c7-905f-551a371a48a0",
   "metadata": {},
   "outputs": [
    {
     "data": {
      "image/png": "[encoded data removed]",
      "text/plain": [
       "<Figure size 640x480 with 1 Axes>"
      ]
     },
     "metadata": {},
     "output_type": "display_data"
    }
   ],
   "source": [
    "    sns.boxplot(x=df['Price'])\n",
    "    plt.title('Боксплот Price')\n",
    "    plt.xlabel('Price')\n",
    "    plt.show()"
   ]
  },
  {
   "cell_type": "markdown",
   "id": "4e2cf46f-08a5-4cdb-9094-5e9b1c21c7b6",
   "metadata": {},
   "source": [
    "    Большая часть цен на алмазы сосредоточена в диапазоне от 6000 до 20 000 долларов, так как синий прямоугольник расположен в этом диапазоне. Внутри прямоугольника медиана (черная линия внутри ящика) находится правее середины, что указывает на асимметрию распределения. Cуществует диапазон без учёта выбросов (две линии, выходящие за синий прямоугольник) от 2000 до 30 000 долларов. На боксплоте располагается большое количество выбросов (множество точек после линии), начинающиеся от 30 000 и заканчивающаеся примерно в 110 000 долларов. Это говорит о значительном количестве дорогих экземпляров алмазов, которые сильно отклоняются от основной массы данных."
   ]
  },
  {
   "cell_type": "markdown",
   "id": "d4a58230-db59-41fc-9e44-1c4819b2ebc6",
   "metadata": {},
   "source": [
    "    3. Столбчатая диаграмма для категориальной переменной Cut:"
   ]
  },
  {
   "cell_type": "code",
   "execution_count": 30,
   "id": "7b424439-5409-4b47-a465-6648cee0daf9",
   "metadata": {},
   "outputs": [
    {
     "data": {
      "image/png": "[encoded data removed]",
      "text/plain": [
       "<Figure size 640x480 with 1 Axes>"
      ]
     },
     "metadata": {},
     "output_type": "display_data"
    }
   ],
   "source": [
    "    sns.countplot(x='Cut', data=df)\n",
    "    plt.title('Распределение Cut')\n",
    "    plt.xlabel('Cut')\n",
    "    plt.ylabel('Количество')\n",
    "    plt.show()"
   ]
  },
  {
   "cell_type": "markdown",
   "id": "c83a3b85-eb56-472a-af51-9c8608bbc9b9",
   "metadata": {},
   "source": [
    "    Наиболее распространённой огранкой (Cut - фактор, который влияет на красоту и стоимость) для алмазов является Ideal, вторым идёт Very Good, третьим Good, четвёртым Signature-Ideal, последним Fair. Данные распредены не равномерно."
   ]
  },
  {
   "cell_type": "markdown",
   "id": "cc475906-5b8f-4376-b633-1a8761a5dd68",
   "metadata": {},
   "source": [
    "    4. Столбчатая диаграмма для категориальной переменной Color:"
   ]
  },
  {
   "cell_type": "code",
   "execution_count": 31,
   "id": "eb98a180-31b1-4cb7-95b5-ef06ebf3fb56",
   "metadata": {},
   "outputs": [
    {
     "data": {
      "image/png": "[encoded data removed]",
      "text/plain": [
       "<Figure size 640x480 with 1 Axes>"
      ]
     },
     "metadata": {},
     "output_type": "display_data"
    }
   ],
   "source": [
    "    sns.countplot(x='Color', data=df)\n",
    "    plt.title('Распределение Color')\n",
    "    plt.xlabel('Color')\n",
    "    plt.ylabel('Количество')\n",
    "    plt.show()"
   ]
  },
  {
   "cell_type": "markdown",
   "id": "14dcff8f-411a-4958-9464-212e74cfa7f2",
   "metadata": {},
   "source": [
    "    Color - ключевой критерий оценки алмаза, который описывает степень отсутствия или наличия цвета в камне. \n",
    "    Алмазы могут иметь оттенки желтого, коричневого или серого, и чем меньше видимого цвета, тем более ценным считается камень. \n",
    "    Для бесцветных алмазов цвет измеряется по шкале, принятой GIA (Gemological Institute of America), от D (абсолютно бесцветный) до Z (заметно желтый или коричневый).\n",
    "    Наиболее распространёнными алмазами являются почти бесцветные (G), в них может присутствовать едва заметный желтоватый оттенок. \n",
    "    Наименее распространённые алмазы - это абсолютно бесцветные (D), которые являются высшей категорией.\n",
    "    Распространённость остальных категорий (H, E, F, I) средняя.\n",
    "    Данные в столбчатой диаграмме являются более менее равномерными. "
   ]
  },
  {
   "cell_type": "markdown",
   "id": "4f9589f4-204a-4068-9109-b2ba5b182ae3",
   "metadata": {},
   "source": [
    "    5. Столбчатая диаграмма для категориальной переменной Clarity:"
   ]
  },
  {
   "cell_type": "code",
   "execution_count": 32,
   "id": "acd401fc-2abd-401c-94fd-66b728212c39",
   "metadata": {},
   "outputs": [
    {
     "data": {
      "image/png": "[encoded data removed]",
      "text/plain": [
       "<Figure size 640x480 with 1 Axes>"
      ]
     },
     "metadata": {},
     "output_type": "display_data"
    }
   ],
   "source": [
    "    sns.countplot(x='Clarity', data=df)\n",
    "    plt.title('Распределение Clarity')\n",
    "    plt.xlabel('Clarity')\n",
    "    plt.ylabel('Количество')\n",
    "    plt.show()"
   ]
  },
  {
   "cell_type": "markdown",
   "id": "272e8652-20c9-46c2-848d-23bf48e6996a",
   "metadata": {},
   "source": [
    "    Clarity (чистота) — это один из ключевых факторов оценки качества алмазов. Чистота алмаза описывает наличие или отсутствие внутренних и внешних изъянов в камне. Чем меньше таких дефектов, тем чище и ценнее алмаз. На представленной столбчатой диаграмме изображено распределение алмазов по категориям чистоты, где самой большой группой является Sl1 (алмазов с небольшими изъянами, видимыми под 10-кратным увеличением микроскопа). Самой маленькой группой является FL (алмазы совершенно без дефектов). Эти данные говорят о том, что на рынке продажи алмазов самыми распространёнными являются категории Sl1, VS2 и VS1. Реже всего на рынке продажи алмазов можно встретить категории IF и FL. \n",
    "    "
   ]
  },
  {
   "cell_type": "markdown",
   "id": "ce59310e-2e2b-4b6d-8442-3ccbf4ca618a",
   "metadata": {},
   "source": [
    "    6. Столбчатая диаграмма для категориальной переменной Polish:"
   ]
  },
  {
   "cell_type": "code",
   "execution_count": 33,
   "id": "e442bcac-f12f-4266-8797-48d77f479522",
   "metadata": {},
   "outputs": [
    {
     "data": {
      "image/png": "[encoded data removed]",
      "text/plain": [
       "<Figure size 640x480 with 1 Axes>"
      ]
     },
     "metadata": {},
     "output_type": "display_data"
    }
   ],
   "source": [
    "    sns.countplot(x='Polish', data=df)\n",
    "    plt.title('Распределение Polish')\n",
    "    plt.xlabel('Polish')\n",
    "    plt.ylabel('Количество')\n",
    "    plt.show()"
   ]
  },
  {
   "cell_type": "markdown",
   "id": "d56c58d5-3802-4504-b7bb-f99f2ab41abf",
   "metadata": {},
   "source": [
    "    Polish (полировка алмаза) - характеристика чистовой обработки граней бриллианта. Идеальная поверхность не должна содержать щербины, царапины, зазубрины, линии шлифовки и т. д. \n",
    "    Самыми распространёнными алмазами с качеством полировки являются VG (очень хорошая полировка) и EX (отличная полировка). Наименее распространёнными являются ID () и G ().\n",
    "    Наиболее распространёнными на рынке алмазами являются камни с качеством полировки VG и EX."
   ]
  },
  {
   "cell_type": "markdown",
   "id": "94855c68-03ea-453b-ab9e-3344a2f5ead3",
   "metadata": {},
   "source": [
    "    7. Столбчатая диаграмма для категориальной переменной Symmetry:"
   ]
  },
  {
   "cell_type": "code",
   "execution_count": 34,
   "id": "237e1ede-8a55-46d5-aa60-14ce5a20b192",
   "metadata": {},
   "outputs": [
    {
     "data": {
      "image/png": "[encoded data removed]",
      "text/plain": [
       "<Figure size 640x480 with 1 Axes>"
      ]
     },
     "metadata": {},
     "output_type": "display_data"
    }
   ],
   "source": [
    "    sns.countplot(x='Symmetry', data=df)\n",
    "    plt.title('Распределение Symmetry')\n",
    "    plt.xlabel('Symmetry')\n",
    "    plt.ylabel('Количество')\n",
    "    plt.show()"
   ]
  },
  {
   "cell_type": "markdown",
   "id": "7a09ea9a-549e-473a-b3c6-421f75611934",
   "metadata": {},
   "source": [
    "    Symmetry (симметрия) для алмазов — это показатель точности, с которой грани камня выровнены и расположены относительно друг друга. Она влияет на внешний вид алмаза, его способность отражать свет и, следовательно, на его блеск и красоту.\n",
    "    Наиболее распространённым качеством симметрии является VG (очень хорошая), это говорит о том, что алмазы с высокой симметрией более ценны, так как их блеск и огонь значительно лучше, чем у камней с нарушениями симметрии. \n",
    "    Наименее распространённым качеством симметрии является ID (не совсем понял, что за качество, возможно, Fair или Poor).\n",
    "    Ценник алмазов с качеством VG и EX, возможно будет выше, чем камней с симметрией ID и G."
   ]
  },
  {
   "cell_type": "markdown",
   "id": "3fe2a828-0453-497c-b40b-28cacf9d2ea1",
   "metadata": {},
   "source": [
    "    8. Столбчатая диаграмма для категориальной переменной Report:"
   ]
  },
  {
   "cell_type": "code",
   "execution_count": 35,
   "id": "8ad5a73d-f9c4-4507-9e1e-c9112133f051",
   "metadata": {},
   "outputs": [
    {
     "data": {
      "image/png": "[encoded data removed]",
      "text/plain": [
       "<Figure size 640x480 with 1 Axes>"
      ]
     },
     "metadata": {},
     "output_type": "display_data"
    }
   ],
   "source": [
    "    sns.countplot(x='Report', data=df)\n",
    "    plt.title('Распределение Report')\n",
    "    plt.xlabel('Report')\n",
    "    plt.ylabel('Количество')\n",
    "    plt.show()"
   ]
  },
  {
   "cell_type": "markdown",
   "id": "f1989f30-2a02-4fde-9308-c7edbc59bcc3",
   "metadata": {},
   "source": [
    "    Еженедельный прейскурант Rapaport Diamond Report, это старейший и наиболее популярный индикатор цен на бриллианты. Первый выпуск увидел свет в 1978 году, благодаря Мартину Рапапорту, и, хотя у данного прейскуранта немало слабых мест, он является основой для большинства сделок с участием бриллиантов и алмазного сырья.\n",
    "    Самой распространённой организацией, которая оценила алмазы из таблицы является GIA (Gemological Institute of America).\n",
    "    AGSL - подразделение American Gem Society (AGS), которое занимается сертификацией и оценкой алмазов. Данное подразделение оценило меньше всего алмазов из таблицы.\n",
    "    Из анализа диаграммы можно сделать вывод, что больше всего алмазов проходит проверку через GIA.i"
   ]
  }
 ],
 "metadata": {
  "kernelspec": {
   "display_name": "Python 3 (ipykernel)",
   "language": "python",
   "name": "python3"
  },
  "language_info": {
   "codemirror_mode": {
    "name": "ipython",
    "version": 3
   },
   "file_extension": ".py",
   "mimetype": "text/x-python",
   "name": "python",
   "nbconvert_exporter": "python",
   "pygments_lexer": "ipython3",
   "version": "3.12.4"
  }
 },
 "nbformat": 4,
 "nbformat_minor": 5
}
