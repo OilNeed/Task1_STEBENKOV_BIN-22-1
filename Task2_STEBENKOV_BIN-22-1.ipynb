{
 "cells": [
  {
   "cell_type": "markdown",
   "metadata": {
    "colab_type": "text",
    "id": "view-in-github"
   },
   "source": [
    "<a href=\"https://colab.research.google.com/github/Letch49/ML-vvsu-2025/blob/feature/%D0%9F%D1%80%D0%B0%D0%BA%D1%82%D0%B8%D0%BA%D0%B0_2.ipynb\" target=\"_parent\"><img src=\"https://colab.research.google.com/assets/colab-badge.svg\" alt=\"Open In Colab\"/></a>"
   ]
  },
  {
   "cell_type": "markdown",
   "metadata": {},
   "source": [
    "Вариант 2 - DIAMOND.CSV"
   ]
  },
  {
   "cell_type": "markdown",
   "metadata": {
    "id": "M8QATjCVCQ9V"
   },
   "source": [
    "## 1. Анализ целевой переменной Y с точки зрения статистики"
   ]
  },
  {
   "cell_type": "markdown",
   "metadata": {
    "id": "Kl2lHWkZCU0y"
   },
   "source": [
    "1. **Импорт необходимых библиотек"
   ]
  },
  {
   "cell_type": "code",
   "execution_count": 143,
   "metadata": {
    "colab": {
     "base_uri": "https://localhost:8080/"
    },
    "id": "flQiMFG7CZMI",
    "outputId": "eb3827b9-482f-4613-d041-53e8e5022cc7"
   },
   "outputs": [
    {
     "name": "stdout",
     "output_type": "stream",
     "text": [
      "Requirement already satisfied: pandas in c:\\users\\vitya\\anaconda3\\lib\\site-packages (2.2.2)\n",
      "Requirement already satisfied: scikit-learn in c:\\users\\vitya\\anaconda3\\lib\\site-packages (1.4.2)\n",
      "Requirement already satisfied: seaborn in c:\\users\\vitya\\anaconda3\\lib\\site-packages (0.13.2)\n",
      "Requirement already satisfied: scipy in c:\\users\\vitya\\anaconda3\\lib\\site-packages (1.13.1)\n",
      "Requirement already satisfied: numpy>=1.26.0 in c:\\users\\vitya\\anaconda3\\lib\\site-packages (from pandas) (1.26.4)\n",
      "Requirement already satisfied: python-dateutil>=2.8.2 in c:\\users\\vitya\\anaconda3\\lib\\site-packages (from pandas) (2.9.0.post0)\n",
      "Requirement already satisfied: pytz>=2020.1 in c:\\users\\vitya\\anaconda3\\lib\\site-packages (from pandas) (2024.1)\n",
      "Requirement already satisfied: tzdata>=2022.7 in c:\\users\\vitya\\anaconda3\\lib\\site-packages (from pandas) (2023.3)\n",
      "Requirement already satisfied: joblib>=1.2.0 in c:\\users\\vitya\\anaconda3\\lib\\site-packages (from scikit-learn) (1.4.2)\n",
      "Requirement already satisfied: threadpoolctl>=2.0.0 in c:\\users\\vitya\\anaconda3\\lib\\site-packages (from scikit-learn) (2.2.0)\n",
      "Requirement already satisfied: matplotlib!=3.6.1,>=3.4 in c:\\users\\vitya\\anaconda3\\lib\\site-packages (from seaborn) (3.8.4)\n",
      "Requirement already satisfied: contourpy>=1.0.1 in c:\\users\\vitya\\anaconda3\\lib\\site-packages (from matplotlib!=3.6.1,>=3.4->seaborn) (1.2.0)\n",
      "Requirement already satisfied: cycler>=0.10 in c:\\users\\vitya\\anaconda3\\lib\\site-packages (from matplotlib!=3.6.1,>=3.4->seaborn) (0.11.0)\n",
      "Requirement already satisfied: fonttools>=4.22.0 in c:\\users\\vitya\\anaconda3\\lib\\site-packages (from matplotlib!=3.6.1,>=3.4->seaborn) (4.51.0)\n",
      "Requirement already satisfied: kiwisolver>=1.3.1 in c:\\users\\vitya\\anaconda3\\lib\\site-packages (from matplotlib!=3.6.1,>=3.4->seaborn) (1.4.4)\n",
      "Requirement already satisfied: packaging>=20.0 in c:\\users\\vitya\\anaconda3\\lib\\site-packages (from matplotlib!=3.6.1,>=3.4->seaborn) (23.2)\n",
      "Requirement already satisfied: pillow>=8 in c:\\users\\vitya\\anaconda3\\lib\\site-packages (from matplotlib!=3.6.1,>=3.4->seaborn) (10.3.0)\n",
      "Requirement already satisfied: pyparsing>=2.3.1 in c:\\users\\vitya\\anaconda3\\lib\\site-packages (from matplotlib!=3.6.1,>=3.4->seaborn) (3.0.9)\n",
      "Requirement already satisfied: six>=1.5 in c:\\users\\vitya\\anaconda3\\lib\\site-packages (from python-dateutil>=2.8.2->pandas) (1.16.0)\n"
     ]
    }
   ],
   "source": [
    "!pip install pandas scikit-learn seaborn scipy"
   ]
  },
  {
   "cell_type": "code",
   "execution_count": 144,
   "metadata": {
    "id": "oNiUcN03CAbk"
   },
   "outputs": [],
   "source": [
    "   import pandas as pd\n",
    "   import numpy as np\n",
    "   import matplotlib.pyplot as plt\n",
    "   import seaborn as sns\n",
    "   from scipy import stats"
   ]
  },
  {
   "cell_type": "markdown",
   "metadata": {
    "id": "rjoWxcqECvS-"
   },
   "source": [
    "2. **Загружаем набор данных:**"
   ]
  },
  {
   "cell_type": "code",
   "execution_count": 145,
   "metadata": {
    "id": "zLUqWAIhCc4Z"
   },
   "outputs": [],
   "source": [
    "# Загрузка набора данных\n",
    "df = pd.read_csv('C:/Users/vitya/diamond.csv')"
   ]
  },
  {
   "cell_type": "code",
   "execution_count": 146,
   "metadata": {
    "colab": {
     "base_uri": "https://localhost:8080/",
     "height": 458
    },
    "id": "0SMUCtdvCear",
    "outputId": "a8f6ff81-09a2-4b99-9e5c-b1dbed210c23"
   },
   "outputs": [
    {
     "data": {
      "text/html": [
       "<div>\n",
       "<style scoped>\n",
       "    .dataframe tbody tr th:only-of-type {\n",
       "        vertical-align: middle;\n",
       "    }\n",
       "\n",
       "    .dataframe tbody tr th {\n",
       "        vertical-align: top;\n",
       "    }\n",
       "\n",
       "    .dataframe thead th {\n",
       "        text-align: right;\n",
       "    }\n",
       "</style>\n",
       "<table border=\"1\" class=\"dataframe\">\n",
       "  <thead>\n",
       "    <tr style=\"text-align: right;\">\n",
       "      <th></th>\n",
       "      <th>Carat Weight</th>\n",
       "      <th>Cut</th>\n",
       "      <th>Color</th>\n",
       "      <th>Clarity</th>\n",
       "      <th>Polish</th>\n",
       "      <th>Symmetry</th>\n",
       "      <th>Report</th>\n",
       "      <th>Price</th>\n",
       "    </tr>\n",
       "  </thead>\n",
       "  <tbody>\n",
       "    <tr>\n",
       "      <th>0</th>\n",
       "      <td>1.10</td>\n",
       "      <td>Ideal</td>\n",
       "      <td>H</td>\n",
       "      <td>SI1</td>\n",
       "      <td>VG</td>\n",
       "      <td>EX</td>\n",
       "      <td>GIA</td>\n",
       "      <td>5169</td>\n",
       "    </tr>\n",
       "    <tr>\n",
       "      <th>1</th>\n",
       "      <td>0.83</td>\n",
       "      <td>Ideal</td>\n",
       "      <td>H</td>\n",
       "      <td>VS1</td>\n",
       "      <td>ID</td>\n",
       "      <td>ID</td>\n",
       "      <td>AGSL</td>\n",
       "      <td>3470</td>\n",
       "    </tr>\n",
       "    <tr>\n",
       "      <th>2</th>\n",
       "      <td>0.85</td>\n",
       "      <td>Ideal</td>\n",
       "      <td>H</td>\n",
       "      <td>SI1</td>\n",
       "      <td>EX</td>\n",
       "      <td>EX</td>\n",
       "      <td>GIA</td>\n",
       "      <td>3183</td>\n",
       "    </tr>\n",
       "    <tr>\n",
       "      <th>3</th>\n",
       "      <td>0.91</td>\n",
       "      <td>Ideal</td>\n",
       "      <td>E</td>\n",
       "      <td>SI1</td>\n",
       "      <td>VG</td>\n",
       "      <td>VG</td>\n",
       "      <td>GIA</td>\n",
       "      <td>4370</td>\n",
       "    </tr>\n",
       "    <tr>\n",
       "      <th>4</th>\n",
       "      <td>0.83</td>\n",
       "      <td>Ideal</td>\n",
       "      <td>G</td>\n",
       "      <td>SI1</td>\n",
       "      <td>EX</td>\n",
       "      <td>EX</td>\n",
       "      <td>GIA</td>\n",
       "      <td>3171</td>\n",
       "    </tr>\n",
       "    <tr>\n",
       "      <th>...</th>\n",
       "      <td>...</td>\n",
       "      <td>...</td>\n",
       "      <td>...</td>\n",
       "      <td>...</td>\n",
       "      <td>...</td>\n",
       "      <td>...</td>\n",
       "      <td>...</td>\n",
       "      <td>...</td>\n",
       "    </tr>\n",
       "    <tr>\n",
       "      <th>5995</th>\n",
       "      <td>1.03</td>\n",
       "      <td>Ideal</td>\n",
       "      <td>D</td>\n",
       "      <td>SI1</td>\n",
       "      <td>EX</td>\n",
       "      <td>EX</td>\n",
       "      <td>GIA</td>\n",
       "      <td>6250</td>\n",
       "    </tr>\n",
       "    <tr>\n",
       "      <th>5996</th>\n",
       "      <td>1.00</td>\n",
       "      <td>Very Good</td>\n",
       "      <td>D</td>\n",
       "      <td>SI1</td>\n",
       "      <td>VG</td>\n",
       "      <td>VG</td>\n",
       "      <td>GIA</td>\n",
       "      <td>5328</td>\n",
       "    </tr>\n",
       "    <tr>\n",
       "      <th>5997</th>\n",
       "      <td>1.02</td>\n",
       "      <td>Ideal</td>\n",
       "      <td>D</td>\n",
       "      <td>SI1</td>\n",
       "      <td>EX</td>\n",
       "      <td>EX</td>\n",
       "      <td>GIA</td>\n",
       "      <td>6157</td>\n",
       "    </tr>\n",
       "    <tr>\n",
       "      <th>5998</th>\n",
       "      <td>1.27</td>\n",
       "      <td>Signature-Ideal</td>\n",
       "      <td>G</td>\n",
       "      <td>VS1</td>\n",
       "      <td>EX</td>\n",
       "      <td>EX</td>\n",
       "      <td>GIA</td>\n",
       "      <td>11206</td>\n",
       "    </tr>\n",
       "    <tr>\n",
       "      <th>5999</th>\n",
       "      <td>2.19</td>\n",
       "      <td>Ideal</td>\n",
       "      <td>E</td>\n",
       "      <td>VS1</td>\n",
       "      <td>EX</td>\n",
       "      <td>EX</td>\n",
       "      <td>GIA</td>\n",
       "      <td>30507</td>\n",
       "    </tr>\n",
       "  </tbody>\n",
       "</table>\n",
       "<p>6000 rows × 8 columns</p>\n",
       "</div>"
      ],
      "text/plain": [
       "      Carat Weight              Cut Color Clarity Polish Symmetry Report  \\\n",
       "0             1.10            Ideal     H     SI1     VG       EX    GIA   \n",
       "1             0.83            Ideal     H     VS1     ID       ID   AGSL   \n",
       "2             0.85            Ideal     H     SI1     EX       EX    GIA   \n",
       "3             0.91            Ideal     E     SI1     VG       VG    GIA   \n",
       "4             0.83            Ideal     G     SI1     EX       EX    GIA   \n",
       "...            ...              ...   ...     ...    ...      ...    ...   \n",
       "5995          1.03            Ideal     D     SI1     EX       EX    GIA   \n",
       "5996          1.00        Very Good     D     SI1     VG       VG    GIA   \n",
       "5997          1.02            Ideal     D     SI1     EX       EX    GIA   \n",
       "5998          1.27  Signature-Ideal     G     VS1     EX       EX    GIA   \n",
       "5999          2.19            Ideal     E     VS1     EX       EX    GIA   \n",
       "\n",
       "      Price  \n",
       "0      5169  \n",
       "1      3470  \n",
       "2      3183  \n",
       "3      4370  \n",
       "4      3171  \n",
       "...     ...  \n",
       "5995   6250  \n",
       "5996   5328  \n",
       "5997   6157  \n",
       "5998  11206  \n",
       "5999  30507  \n",
       "\n",
       "[6000 rows x 8 columns]"
      ]
     },
     "execution_count": 146,
     "metadata": {},
     "output_type": "execute_result"
    }
   ],
   "source": [
    "df"
   ]
  },
  {
   "cell_type": "code",
   "execution_count": 147,
   "metadata": {
    "colab": {
     "base_uri": "https://localhost:8080/"
    },
    "id": "P_Am0RHMCkF1",
    "outputId": "8ea0c644-336a-4e9f-9c96-40c59d1fae43"
   },
   "outputs": [
    {
     "name": "stdout",
     "output_type": "stream",
     "text": [
      "колонка: Carat Weight\n",
      "колонка: Cut\n",
      "колонка: Color\n",
      "колонка: Clarity\n",
      "колонка: Polish\n",
      "колонка: Symmetry\n",
      "колонка: Report\n",
      "колонка: Price\n"
     ]
    }
   ],
   "source": [
    "# для удобства распечатаем все колонки\n",
    "for column in df.columns:\n",
    "  print(f'колонка: {column}')"
   ]
  },
  {
   "cell_type": "code",
   "execution_count": 148,
   "metadata": {
    "colab": {
     "base_uri": "https://localhost:8080/"
    },
    "id": "e7ynbI9AC2AX",
    "outputId": "2b6e7217-9e1a-4c00-cfaf-07eaa055e916"
   },
   "outputs": [
    {
     "name": "stdout",
     "output_type": "stream",
     "text": [
      "<class 'pandas.core.frame.DataFrame'>\n",
      "RangeIndex: 6000 entries, 0 to 5999\n",
      "Data columns (total 8 columns):\n",
      " #   Column        Non-Null Count  Dtype  \n",
      "---  ------        --------------  -----  \n",
      " 0   Carat Weight  6000 non-null   float64\n",
      " 1   Cut           6000 non-null   object \n",
      " 2   Color         6000 non-null   object \n",
      " 3   Clarity       6000 non-null   object \n",
      " 4   Polish        6000 non-null   object \n",
      " 5   Symmetry      6000 non-null   object \n",
      " 6   Report        6000 non-null   object \n",
      " 7   Price         6000 non-null   int64  \n",
      "dtypes: float64(1), int64(1), object(6)\n",
      "memory usage: 375.1+ KB\n"
     ]
    }
   ],
   "source": [
    "df.info()"
   ]
  },
  {
   "cell_type": "markdown",
   "metadata": {
    "id": "I-Umxm3KC1K6"
   },
   "source": [
    "3. **Проверить наличие пропущенных значений и работа с пропусками для числовых:**"
   ]
  },
  {
   "cell_type": "code",
   "execution_count": 149,
   "metadata": {
    "colab": {
     "base_uri": "https://localhost:8080/"
    },
    "id": "9lSxhSMcC9RN",
    "outputId": "36d8a0b8-c7d2-437b-ffbc-bd5b9c063d28"
   },
   "outputs": [
    {
     "name": "stdout",
     "output_type": "stream",
     "text": [
      "Carat Weight    0\n",
      "Cut             0\n",
      "Color           0\n",
      "Clarity         0\n",
      "Polish          0\n",
      "Symmetry        0\n",
      "Report          0\n",
      "Price           0\n",
      "dtype: int64\n"
     ]
    }
   ],
   "source": [
    "# Проверка на пропущенные значения\n",
    "print(df.isnull().sum()) # пропусков нет"
   ]
  },
  {
   "cell_type": "code",
   "execution_count": 150,
   "metadata": {
    "id": "7fp-OSKxDgN1"
   },
   "outputs": [],
   "source": [
    "# генерируем случайную последовательность\n",
    "np.random.seed(42)\n",
    "df_test_nan = df.copy()\n",
    "df_test_nan.loc[np.random.choice(df_test_nan.index, size=5, replace=True), 'Price'] = np.nan"
   ]
  },
  {
   "cell_type": "code",
   "execution_count": 151,
   "metadata": {
    "colab": {
     "base_uri": "https://localhost:8080/"
    },
    "id": "rQDlrELvDxHy",
    "outputId": "65df5bdc-3a45-4bec-c615-ca603dc03158"
   },
   "outputs": [
    {
     "name": "stdout",
     "output_type": "stream",
     "text": [
      "Carat Weight    0\n",
      "Cut             0\n",
      "Color           0\n",
      "Clarity         0\n",
      "Polish          0\n",
      "Symmetry        0\n",
      "Report          0\n",
      "Price           5\n",
      "dtype: int64\n"
     ]
    }
   ],
   "source": [
    "# Проверка на пропущенные значения\n",
    "print(df_test_nan.isnull().sum()) # пропусков нет"
   ]
  },
  {
   "cell_type": "code",
   "execution_count": 152,
   "metadata": {
    "colab": {
     "base_uri": "https://localhost:8080/"
    },
    "id": "URBzKPPND0Kx",
    "outputId": "0651a921-7e5d-4adb-98b9-6fee901761dc"
   },
   "outputs": [
    {
     "name": "stdout",
     "output_type": "stream",
     "text": [
      "\n",
      "# Удаление строк с пропусками\n",
      "Carat Weight    0\n",
      "Cut             0\n",
      "Color           0\n",
      "Clarity         0\n",
      "Polish          0\n",
      "Symmetry        0\n",
      "Report          0\n",
      "Price           0\n",
      "dtype: int64\n"
     ]
    }
   ],
   "source": [
    "# Вариант 1: Удаление строк с пропусками\n",
    "df_drop = df_test_nan.dropna()\n",
    "print(\"\\n# Удаление строк с пропусками\")\n",
    "print(df.isnull().sum()) # пропусков нет"
   ]
  },
  {
   "cell_type": "code",
   "execution_count": 153,
   "metadata": {
    "colab": {
     "base_uri": "https://localhost:8080/"
    },
    "id": "L_Zu21yGEfrY",
    "outputId": "452b49ac-3697-4a1f-9d76-017aa4d572e4"
   },
   "outputs": [
    {
     "name": "stdout",
     "output_type": "stream",
     "text": [
      "\n",
      "# Заполнение пропусков медианой\n",
      "Carat Weight    0\n",
      "Cut             0\n",
      "Color           0\n",
      "Clarity         0\n",
      "Polish          0\n",
      "Symmetry        0\n",
      "Report          0\n",
      "Price           0\n",
      "dtype: int64\n"
     ]
    }
   ],
   "source": [
    "# Вариант 2: Заполнение пропусков медианой\n",
    "df_median = df_test_nan.copy()\n",
    "df_median.Price = df_median.Price.fillna(df_median.Price.median())\n",
    "\n",
    "print(\"\\n# Заполнение пропусков медианой\")\n",
    "print(df_median.isnull().sum()) # пропусков нет"
   ]
  },
  {
   "cell_type": "code",
   "execution_count": 154,
   "metadata": {
    "colab": {
     "base_uri": "https://localhost:8080/"
    },
    "id": "PTPxvki-EzDG",
    "outputId": "6e6c5780-b77b-4d42-b482-48dc5be934ff"
   },
   "outputs": [
    {
     "name": "stdout",
     "output_type": "stream",
     "text": [
      "\n",
      "# Заполнение пропусков средним\n",
      "Carat Weight    0\n",
      "Cut             0\n",
      "Color           0\n",
      "Clarity         0\n",
      "Polish          0\n",
      "Symmetry        0\n",
      "Report          0\n",
      "Price           0\n",
      "dtype: int64\n"
     ]
    }
   ],
   "source": [
    "# Вариант 3: Заполнение пропусков средним\n",
    "df_mean = df_test_nan.copy()\n",
    "df_mean.Price = df_mean.Price.fillna(df_median.Price.mean())\n",
    "\n",
    "print(\"\\n# Заполнение пропусков средним\")\n",
    "print(df_mean.isnull().sum()) # пропусков нет"
   ]
  },
  {
   "cell_type": "markdown",
   "metadata": {
    "id": "FZ9qKGxuu4QM"
   },
   "source": [
    "⏰ Заполнение категориальных признаков происходит с помощью ```df.category_variable.mode() (как один из вариантов, хотя и считается недостаточно хорошим).```\n",
    "\n",
    "Как вариант - можно использовать KNN (K-ближайших соедей)"
   ]
  },
  {
   "cell_type": "markdown",
   "metadata": {
    "id": "sc3IAvF-DG91"
   },
   "source": [
    "4. **Выбрать целевую переменную**\n",
    "\n",
    "⏰ В качестве целевой выбираем категориальную переменную.\n",
    "\n",
    "```В датасете была выбрана целевая переменная is_best_diamond -> которая будет преобразована из Cut. Символьные значения будут преобразованы в числовые, где Signature-Ideal будет под цифрой 5, Ideal 4 и т. д. Самый лучший алмаз должен будет иметь значение Cut равное 5."
   ]
  },
  {
   "cell_type": "code",
   "execution_count": 155,
   "metadata": {
    "id": "n4borJ_DDN4d"
   },
   "outputs": [],
   "source": [
    "df['is_best_diamond'] = np.where(df['Cut'] == 'Signature-Ideal', 1, 0).astype(int)"
   ]
  },
  {
   "cell_type": "code",
   "execution_count": 156,
   "metadata": {
    "colab": {
     "base_uri": "https://localhost:8080/"
    },
    "id": "Qv2hfqKQILE4",
    "outputId": "ef2df2a8-ec0b-4024-b41d-ee5dc7b72304"
   },
   "outputs": [
    {
     "data": {
      "text/plain": [
       "Index(['Carat Weight', 'Cut', 'Color', 'Clarity', 'Polish', 'Symmetry',\n",
       "       'Report', 'Price', 'is_best_diamond'],\n",
       "      dtype='object')"
      ]
     },
     "execution_count": 156,
     "metadata": {},
     "output_type": "execute_result"
    }
   ],
   "source": [
    "df.columns"
   ]
  },
  {
   "cell_type": "code",
   "execution_count": 157,
   "metadata": {
    "id": "9OVe4b_GH2o1"
   },
   "outputs": [],
   "source": [
    "Y = df['is_best_diamond'] # выбираем целевую переменную (категориальную)\n",
    "X = df.drop('is_best_diamond', axis=1) # переменные для проверки влияния\n",
    "\n",
    "# Убирается базововая переменная, а не только. Y\n",
    "X = X.drop('Cut', axis=1)"
   ]
  },
  {
   "cell_type": "markdown",
   "metadata": {
    "id": "swUhFdbAH_Q5"
   },
   "source": [
    "5. **Графический анализ**"
   ]
  },
  {
   "cell_type": "code",
   "execution_count": 158,
   "metadata": {
    "colab": {
     "base_uri": "https://localhost:8080/",
     "height": 441
    },
    "id": "Bf4NXIG1It51",
    "outputId": "72b564c4-12af-4715-ff04-969c4a5acb41"
   },
   "outputs": [
    {
     "data": {
      "text/html": [
       "<div>\n",
       "<style scoped>\n",
       "    .dataframe tbody tr th:only-of-type {\n",
       "        vertical-align: middle;\n",
       "    }\n",
       "\n",
       "    .dataframe tbody tr th {\n",
       "        vertical-align: top;\n",
       "    }\n",
       "\n",
       "    .dataframe thead th {\n",
       "        text-align: right;\n",
       "    }\n",
       "</style>\n",
       "<table border=\"1\" class=\"dataframe\">\n",
       "  <thead>\n",
       "    <tr style=\"text-align: right;\">\n",
       "      <th></th>\n",
       "      <th>Carat Weight</th>\n",
       "      <th>Price</th>\n",
       "    </tr>\n",
       "  </thead>\n",
       "  <tbody>\n",
       "    <tr>\n",
       "      <th>0</th>\n",
       "      <td>1.10</td>\n",
       "      <td>5169</td>\n",
       "    </tr>\n",
       "    <tr>\n",
       "      <th>1</th>\n",
       "      <td>0.83</td>\n",
       "      <td>3470</td>\n",
       "    </tr>\n",
       "    <tr>\n",
       "      <th>2</th>\n",
       "      <td>0.85</td>\n",
       "      <td>3183</td>\n",
       "    </tr>\n",
       "    <tr>\n",
       "      <th>3</th>\n",
       "      <td>0.91</td>\n",
       "      <td>4370</td>\n",
       "    </tr>\n",
       "    <tr>\n",
       "      <th>4</th>\n",
       "      <td>0.83</td>\n",
       "      <td>3171</td>\n",
       "    </tr>\n",
       "    <tr>\n",
       "      <th>...</th>\n",
       "      <td>...</td>\n",
       "      <td>...</td>\n",
       "    </tr>\n",
       "    <tr>\n",
       "      <th>5995</th>\n",
       "      <td>1.03</td>\n",
       "      <td>6250</td>\n",
       "    </tr>\n",
       "    <tr>\n",
       "      <th>5996</th>\n",
       "      <td>1.00</td>\n",
       "      <td>5328</td>\n",
       "    </tr>\n",
       "    <tr>\n",
       "      <th>5997</th>\n",
       "      <td>1.02</td>\n",
       "      <td>6157</td>\n",
       "    </tr>\n",
       "    <tr>\n",
       "      <th>5998</th>\n",
       "      <td>1.27</td>\n",
       "      <td>11206</td>\n",
       "    </tr>\n",
       "    <tr>\n",
       "      <th>5999</th>\n",
       "      <td>2.19</td>\n",
       "      <td>30507</td>\n",
       "    </tr>\n",
       "  </tbody>\n",
       "</table>\n",
       "<p>6000 rows × 2 columns</p>\n",
       "</div>"
      ],
      "text/plain": [
       "      Carat Weight  Price\n",
       "0             1.10   5169\n",
       "1             0.83   3470\n",
       "2             0.85   3183\n",
       "3             0.91   4370\n",
       "4             0.83   3171\n",
       "...            ...    ...\n",
       "5995          1.03   6250\n",
       "5996          1.00   5328\n",
       "5997          1.02   6157\n",
       "5998          1.27  11206\n",
       "5999          2.19  30507\n",
       "\n",
       "[6000 rows x 2 columns]"
      ]
     },
     "execution_count": 158,
     "metadata": {},
     "output_type": "execute_result"
    }
   ],
   "source": [
    "# Список числовых колонок для построения графиков\n",
    "numeric_cols = X.select_dtypes(include=['float64', 'int64'])\n",
    "numeric_cols"
   ]
  },
  {
   "cell_type": "code",
   "execution_count": 159,
   "metadata": {
    "colab": {
     "base_uri": "https://localhost:8080/",
     "height": 1000
    },
    "id": "eNse8fXjJkAC",
    "outputId": "13842e03-25d2-478a-c261-f44c0fdc9a3c"
   },
   "outputs": [
    {
     "data": {
      "image/png": "[encoded data removed]",
      "text/plain": [
       "<Figure size 800x600 with 1 Axes>"
      ]
     },
     "metadata": {},
     "output_type": "display_data"
    },
    {
     "data": {
      "image/png": "[encoded data removed]",
      "text/plain": [
       "<Figure size 800x600 with 1 Axes>"
      ]
     },
     "metadata": {},
     "output_type": "display_data"
    }
   ],
   "source": [
    "# Построение boxplot для каждой переменной\n",
    "for col in numeric_cols:\n",
    "    plt.figure(figsize=(8, 6))\n",
    "    sns.boxplot(x='is_best_diamond', y=col, data=df)\n",
    "    plt.title(f'Boxplot {col} относительно is_best_diamond')\n",
    "    plt.show()"
   ]
  },
  {
   "cell_type": "code",
   "execution_count": 160,
   "metadata": {
    "colab": {
     "base_uri": "https://localhost:8080/",
     "height": 1000
    },
    "id": "ZczeCnXDJrp4",
    "outputId": "8b1123f4-c530-45af-814a-7b3c0c024411"
   },
   "outputs": [
    {
     "data": {
      "image/png": "[encoded data removed]",
      "text/plain": [
       "<Figure size 800x600 with 1 Axes>"
      ]
     },
     "metadata": {},
     "output_type": "display_data"
    },
    {
     "data": {
      "image/png": "[encoded data removed]",
      "text/plain": [
       "<Figure size 800x600 with 1 Axes>"
      ]
     },
     "metadata": {},
     "output_type": "display_data"
    }
   ],
   "source": [
    "# Построение диаграмм распределения для каждой переменной\n",
    "for col in numeric_cols:\n",
    "    plt.figure(figsize=(8, 6))\n",
    "    sns.histplot(data=df, x=col, hue='is_best_diamond', element=\"step\", stat=\"density\", common_norm=False)\n",
    "    plt.title(f'Распределение {col} относительно is_best_diamond')\n",
    "    plt.show()"
   ]
  },
  {
   "cell_type": "markdown",
   "metadata": {},
   "source": [
    "Большая часть Carat Weight на блокспоте со значением 0 (то есть их Cut не является Signature-Ideal) сосредоточена в диапазоне от 1.0 до 1.6, так как синий прямоугольник расположен в этом диапазоне. Внутри прямоугольника медиана (черная линия внутри ящика) находится ниже середины, что указывает на асимметрию распределения. Cуществует диапазон без учёта выбросов (две линии, выходящие за синий прямоугольник) от 0.2 до 2.0. Располагается большое количество выбросов (множество точек после линии), начинающиеся от 2.5 до 2.8. Это говорит о значительном количестве алмазов, которые не очень сильно отклоняются от основной массы данных."
   ]
  },
  {
   "cell_type": "markdown",
   "metadata": {},
   "source": [
    "Большая часть Carat Weight на блокспоте со значением 1 (то есть их Cut является Signature-Ideal) сосредоточена в диапазоне от 1.05 до 1.3, так как синий прямоугольник расположен в этом диапазоне. Внутри прямоугольника медиана находится чуть ниже середины, что указывает на небольшую асимметрию распределения. Cуществует диапазон без учёта выбросов от 0.2 до 1.55. Располагается определённое количество выбросов, которых гораздо меньше в сравнении с is_best_diamond равная 0. Выбросы начинаются с 1.55 и заканчиваются в 2.4. Это говорит об относительно небольшом количестве алмазов, которые сильно отклоняются от основной массы данных (в is_best_diamond = 0 диапазон выбросов равен 0.3, в is_best_diamond = 1 равен 0.85)."
   ]
  },
  {
   "cell_type": "markdown",
   "metadata": {},
   "source": [
    "Большая часть Price на блокспоте со значением 0 сосредоточена в диапазоне от 5000 до 15000, так как синий прямоугольник расположен в этом диапазоне. Внутри прямоугольника медиана находится ниже середины, что указывает на асимметрию распределения. Cуществует диапазон без учёта выбросов от 2000 до 32000. Располагается большое количество выбросов, начинающиеся от 32000 до 100000. Это говорит о большом количестве алмазов, которые очень сильно отклоняются от основной массы данных."
   ]
  },
  {
   "cell_type": "markdown",
   "metadata": {},
   "source": [
    "Большая часть Price на блокспоте со значением 1 сосредоточена в диапазоне от 8000 до 12000, так как синий прямоугольник расположен в этом диапазоне. Внутри прямоугольника медиана находится чуть ниже середины, что указывает на незначительную асимметрию распределения. Cуществует диапазон без учёта выбросов от 2000 до 20000. Располагается небольшое количество выбросов, начинающиеся от 20000 до 80000. Это говорит о небольшом количестве алмазов, которые очень сильно отклоняются от основной массы данных."
   ]
  },
  {
   "cell_type": "markdown",
   "metadata": {},
   "source": [
    "У алмазов качеством Signature-Ideal плотность распределения Carat Weight больше всего в диапазоне от 0.35 до 1.25. У алмазов других качеств плотность распределения Carat Weight больше всего в диапазоне от 0.75 до 1.25. В основном алмазы качества Signature-Ideal менее широконы разбросаны по значениям и сосредоточены вокруг небольших значений Carat Weight, тогда как алмазы других качеств распределены более равномерно, но также сосредоточены вокруг небольших значений Carat Weight."
   ]
  },
  {
   "cell_type": "markdown",
   "metadata": {},
   "source": [
    "У алмазов качеством Signature-Ideal плотность распределения Price больше всего в диапазоне от 7000 до 13000. У алмазов других качеств плотность распределения Price больше всего в диапазоне от 3000 до 4000. В основном алмазы качества Signature-Ideal дороже алмазов других качеств на 3000 долларов."
   ]
  },
  {
   "cell_type": "code",
   "execution_count": 161,
   "metadata": {
    "id": "9lBY1IdeJ3Mb"
   },
   "outputs": [],
   "source": [
    "# Описательная статистика для числовых переменных, разделенная по целевой переменной\n",
    "desc_stats_numeric = df.groupby('is_best_diamond')[df.select_dtypes(include=[np.number]).columns].describe()\n",
    "\n",
    "# Описательная статистика для категориальных переменных, разделенная по целевой переменной\n",
    "desc_stats_categorical = df.groupby('is_best_diamond')[df.select_dtypes(include=['object']).columns].describe()"
   ]
  },
  {
   "cell_type": "code",
   "execution_count": 162,
   "metadata": {
    "colab": {
     "base_uri": "https://localhost:8080/"
    },
    "id": "36FjYF_vLrYa",
    "outputId": "2adf379f-9756-4a4e-e22f-af19c5eff66c"
   },
   "outputs": [
    {
     "name": "stdout",
     "output_type": "stream",
     "text": [
      "Описательная статистика для Carat Weight:\n",
      "\n",
      "                  count      mean       std   min   25%   50%   75%   max\n",
      "is_best_diamond                                                          \n",
      "0                5747.0  1.340212  0.479984  0.75  1.00  1.13  1.61  2.91\n",
      "1                 253.0  1.205217  0.340934  0.75  1.04  1.12  1.26  2.39\n",
      "\n",
      "==================================================\n",
      "\n",
      "Описательная статистика для Price:\n",
      "\n",
      "                  count          mean           std     min     25%     50%  \\\n",
      "is_best_diamond                                                               \n",
      "0                5747.0  11802.587437  10207.630636  2184.0  5112.0  7715.0   \n",
      "1                 253.0  11541.525692   9656.204024  2793.0  7079.0  9330.0   \n",
      "\n",
      "                     75%       max  \n",
      "is_best_diamond                     \n",
      "0                15333.5  101561.0  \n",
      "1                12869.0   81399.0  \n",
      "\n",
      "==================================================\n",
      "\n"
     ]
    }
   ],
   "source": [
    "# Проходим по каждой числовой переменной и выводим статистику отдельно\n",
    "for col in numeric_cols:\n",
    "    print(f\"Описательная статистика для {col}:\\n\")\n",
    "    print(df.groupby('is_best_diamond')[col].describe())\n",
    "    print(\"\\n\" + \"=\"*50 + \"\\n\")\n"
   ]
  },
  {
   "cell_type": "markdown",
   "metadata": {},
   "source": [
    "1. Carat Weight (Вес карата):\n",
    "Среднее значение (mean):\n",
    "\n",
    "Для обычных бриллиантов (is_best_diamond = 0): 1.34 карата.\n",
    "Для лучших бриллиантов (is_best_diamond = 1): 1.21 карата.\n",
    "Средний вес карата у лучших бриллиантов ниже, чем у обычных.\n",
    "Стандартное отклонение (std):\n",
    "\n",
    "Обычные бриллианты: 0.48 карата.\n",
    "Лучшие бриллианты: 0.34 карата.\n",
    "Стандартное отклонение у обычных бриллиантов выше, что говорит о более широком разбросе веса.\n",
    "Минимум (min) и максимум (max):\n",
    "\n",
    "Минимальный вес одинаков для обеих групп: 0.75 карата.\n",
    "Максимальный вес: обычные бриллианты — 2.91 карата, лучшие — 2.39 карата. Это указывает на то, что обычные бриллианты могут быть значительно крупнее.\n",
    "Квантили (25%, 50%, 75%):\n",
    "\n",
    "У лучших бриллиантов более узкий диапазон весов (межквартильный размах меньше), что может указывать на более строгие стандарты веса для этой категории.\n",
    "2. Price (Цена):\n",
    "Среднее значение (mean):\n",
    "\n",
    "Обычные бриллианты: $11,802.59.\n",
    "Лучшие бриллианты: $11,541.53.\n",
    "Средняя цена практически одинакова в обеих группах, несмотря на то, что вес у лучших бриллиантов меньше.\n",
    "Стандартное отклонение (std):\n",
    "\n",
    "Обычные бриллианты: $10,207.63.\n",
    "Лучшие бриллианты: $9,656.20.\n",
    "Разброс цен у обычных бриллиантов выше, что связано с большим диапазоном веса и, возможно, других факторов.\n",
    "Минимум (min) и максимум (max):\n",
    "\n",
    "Минимальная цена у обычных бриллиантов ниже ($2,184 против $2,793 у лучших).\n",
    "Максимальная цена у обычных бриллиантов выше ($101,561 против $81,399 у лучших), что отражает наличие более крупных и дорогих камней среди обычных.\n",
    "Квантили (25%, 50%, 75%):\n",
    "\n",
    "В целом цены у лучших бриллиантов более концентрированы в среднем ценовом сегменте, тогда как обычные бриллианты имеют больший разброс.\n",
    "\n",
    "Основные выводы:\n",
    "Вес лучших бриллиантов, как правило, меньше, чем у обычных, но это не приводит к значительному снижению средней цены.\n",
    "Цены лучших бриллиантов более предсказуемы, а у обычных бриллиантов диапазон цен гораздо шире, что, вероятно, связано с наличием более крупных камней среди обычных бриллиантов."
   ]
  },
  {
   "cell_type": "code",
   "execution_count": 163,
   "metadata": {
    "colab": {
     "base_uri": "https://localhost:8080/",
     "height": 211
    },
    "id": "9jFLJ6qYKPbZ",
    "outputId": "be145b7d-ce35-42e7-b263-bf8bfbd871a6"
   },
   "outputs": [
    {
     "name": "stdout",
     "output_type": "stream",
     "text": [
      "\n",
      "Категориальные переменные:\n"
     ]
    },
    {
     "data": {
      "text/html": [
       "<div>\n",
       "<style scoped>\n",
       "    .dataframe tbody tr th:only-of-type {\n",
       "        vertical-align: middle;\n",
       "    }\n",
       "\n",
       "    .dataframe tbody tr th {\n",
       "        vertical-align: top;\n",
       "    }\n",
       "\n",
       "    .dataframe thead tr th {\n",
       "        text-align: left;\n",
       "    }\n",
       "\n",
       "    .dataframe thead tr:last-of-type th {\n",
       "        text-align: right;\n",
       "    }\n",
       "</style>\n",
       "<table border=\"1\" class=\"dataframe\">\n",
       "  <thead>\n",
       "    <tr>\n",
       "      <th></th>\n",
       "      <th colspan=\"4\" halign=\"left\">Cut</th>\n",
       "      <th colspan=\"4\" halign=\"left\">Color</th>\n",
       "      <th colspan=\"2\" halign=\"left\">Clarity</th>\n",
       "      <th>...</th>\n",
       "      <th colspan=\"2\" halign=\"left\">Polish</th>\n",
       "      <th colspan=\"4\" halign=\"left\">Symmetry</th>\n",
       "      <th colspan=\"4\" halign=\"left\">Report</th>\n",
       "    </tr>\n",
       "    <tr>\n",
       "      <th></th>\n",
       "      <th>count</th>\n",
       "      <th>unique</th>\n",
       "      <th>top</th>\n",
       "      <th>freq</th>\n",
       "      <th>count</th>\n",
       "      <th>unique</th>\n",
       "      <th>top</th>\n",
       "      <th>freq</th>\n",
       "      <th>count</th>\n",
       "      <th>unique</th>\n",
       "      <th>...</th>\n",
       "      <th>top</th>\n",
       "      <th>freq</th>\n",
       "      <th>count</th>\n",
       "      <th>unique</th>\n",
       "      <th>top</th>\n",
       "      <th>freq</th>\n",
       "      <th>count</th>\n",
       "      <th>unique</th>\n",
       "      <th>top</th>\n",
       "      <th>freq</th>\n",
       "    </tr>\n",
       "    <tr>\n",
       "      <th>is_best_diamond</th>\n",
       "      <th></th>\n",
       "      <th></th>\n",
       "      <th></th>\n",
       "      <th></th>\n",
       "      <th></th>\n",
       "      <th></th>\n",
       "      <th></th>\n",
       "      <th></th>\n",
       "      <th></th>\n",
       "      <th></th>\n",
       "      <th></th>\n",
       "      <th></th>\n",
       "      <th></th>\n",
       "      <th></th>\n",
       "      <th></th>\n",
       "      <th></th>\n",
       "      <th></th>\n",
       "      <th></th>\n",
       "      <th></th>\n",
       "      <th></th>\n",
       "      <th></th>\n",
       "    </tr>\n",
       "  </thead>\n",
       "  <tbody>\n",
       "    <tr>\n",
       "      <th>0</th>\n",
       "      <td>5747</td>\n",
       "      <td>4</td>\n",
       "      <td>Ideal</td>\n",
       "      <td>2482</td>\n",
       "      <td>5747</td>\n",
       "      <td>6</td>\n",
       "      <td>G</td>\n",
       "      <td>1437</td>\n",
       "      <td>5747</td>\n",
       "      <td>7</td>\n",
       "      <td>...</td>\n",
       "      <td>VG</td>\n",
       "      <td>2409</td>\n",
       "      <td>5747</td>\n",
       "      <td>4</td>\n",
       "      <td>VG</td>\n",
       "      <td>2417</td>\n",
       "      <td>5747</td>\n",
       "      <td>2</td>\n",
       "      <td>GIA</td>\n",
       "      <td>5184</td>\n",
       "    </tr>\n",
       "    <tr>\n",
       "      <th>1</th>\n",
       "      <td>253</td>\n",
       "      <td>1</td>\n",
       "      <td>Signature-Ideal</td>\n",
       "      <td>253</td>\n",
       "      <td>253</td>\n",
       "      <td>6</td>\n",
       "      <td>G</td>\n",
       "      <td>64</td>\n",
       "      <td>253</td>\n",
       "      <td>7</td>\n",
       "      <td>...</td>\n",
       "      <td>ID</td>\n",
       "      <td>171</td>\n",
       "      <td>253</td>\n",
       "      <td>2</td>\n",
       "      <td>ID</td>\n",
       "      <td>171</td>\n",
       "      <td>253</td>\n",
       "      <td>2</td>\n",
       "      <td>AGSL</td>\n",
       "      <td>171</td>\n",
       "    </tr>\n",
       "  </tbody>\n",
       "</table>\n",
       "<p>2 rows × 24 columns</p>\n",
       "</div>"
      ],
      "text/plain": [
       "                  Cut                               Color                   \\\n",
       "                count unique              top  freq count unique top  freq   \n",
       "is_best_diamond                                                              \n",
       "0                5747      4            Ideal  2482  5747      6   G  1437   \n",
       "1                 253      1  Signature-Ideal   253   253      6   G    64   \n",
       "\n",
       "                Clarity         ... Polish       Symmetry                   \\\n",
       "                  count unique  ...    top  freq    count unique top  freq   \n",
       "is_best_diamond                 ...                                          \n",
       "0                  5747      7  ...     VG  2409     5747      4  VG  2417   \n",
       "1                   253      7  ...     ID   171      253      2  ID   171   \n",
       "\n",
       "                Report                     \n",
       "                 count unique   top  freq  \n",
       "is_best_diamond                            \n",
       "0                 5747      2   GIA  5184  \n",
       "1                  253      2  AGSL   171  \n",
       "\n",
       "[2 rows x 24 columns]"
      ]
     },
     "execution_count": 163,
     "metadata": {},
     "output_type": "execute_result"
    }
   ],
   "source": [
    "print(\"\\nКатегориальные переменные:\")\n",
    "desc_stats_categorical"
   ]
  },
  {
   "cell_type": "markdown",
   "metadata": {},
   "source": [
    "1. Cut (Огранка):\n",
    "    - Обычные бриллианты (is_best_diamond = 0):\n",
    "        - Всего: 5747.\n",
    "        - 4 уникальных категории.\n",
    "        - Самая частая категория: **Ideal** (Идеальная огранка) — 2482 бриллианта (частота 43%).\n",
    "   \n",
    "    - Лучшие бриллианты (is_best_diamond = 1):\n",
    "        - Всего: 253.\n",
    "        - 1 уникальная категория: Signature-Ideal (Фирменная идеальная огранка), что предполагает эксклюзивный стандарт огранки для лучших бриллиантов.\n",
    "\n",
    "2. Color (Цвет):\n",
    "    - Обычные бриллианты:\n",
    "        - 6 уникальных категорий цвета.\n",
    "        - Самый популярный цвет: G — 1437 бриллиантов.\n",
    "   \n",
    "    - Лучшие бриллианты:\n",
    "        - 6 уникальных категорий цвета (совпадает с обычными бриллиантами).\n",
    "        - Самый частый цвет также G, но с меньшей частотой — 64 бриллианта.\n",
    "\n",
    "3. Clarity (Чистота):\n",
    "    - Обычные бриллианты:\n",
    "        - 7 уникальных категорий.\n",
    "   \n",
    "   - Лучшие бриллианты:\n",
    "     - Также 7 категорий, как и у обычных бриллиантов.\n",
    "\n",
    "4. Polish (Полировка):\n",
    "    - Обычные бриллианты:\n",
    "        - Самая частая категория полировки: VG (Very Good) — 2409 бриллиантов.\n",
    "   \n",
    "    - Лучшие бриллианты:\n",
    "      - Самая частая категория: ID (Ideal) — 171 бриллиант.\n",
    "\n",
    "5. Symmetry (Симметрия):\n",
    "    - Обычные бриллианты:\n",
    "      - Самая частая симметрия: VG (Very Good) — 2417 бриллиантов.\n",
    "   \n",
    "    - Лучшие бриллианты:\n",
    "      - Самая частая симметрия: ID (Ideal) — 171 бриллиант.\n",
    "\n",
    "6. Report (Сертификат):\n",
    "    - Обычные бриллианты:\n",
    "      - Самый частый сертификат: GIA (Gemological Institute of America) — 5184 бриллианта.\n",
    "   \n",
    "    - Лучшие бриллианты:\n",
    "      - Все бриллианты имеют сертификат AGSL (American Gem Society Laboratories) — 171 бриллиант.\n",
    "\n",
    "Основные выводы:\n",
    "    - Огранка у обычных бриллиантов варьируется, в то время как все лучшие бриллианты имеют эксклюзивную огранку Signature-Ideal.\n",
    "    - Цвет и чистота у лучших и обычных бриллиантов разнообразны, но в обеих группах преобладает цвет G.\n",
    "    - У лучших бриллиантов наблюдается более высокий стандарт для полировки и симметрии (категория Ideal), тогда как у обычных преобладает Very Good.\n",
    "    - Все лучшие бриллианты сертифицированы AGSL, в то время как большинство обычных бриллиантов сертифицированы GIA."
   ]
  },
  {
   "cell_type": "markdown",
   "metadata": {
    "id": "b34BwyK0MF0P"
   },
   "source": [
    "2. Расчет теста Пирсона"
   ]
  },
  {
   "cell_type": "markdown",
   "metadata": {
    "id": "ixhxJl6lMtNV"
   },
   "source": [
    "### **Описание:**\n",
    "Рассчитать коэффициенты корреляции Пирсона между Y и каждым из признаков X, чтобы оценить значимость этих корреляций.\n",
    "\n",
    "### **Шаги:**\n",
    "\n",
    "1. **Рассчитать коэффициенты корреляции Пирсона для каждого признака:**"
   ]
  },
  {
   "cell_type": "code",
   "execution_count": 164,
   "metadata": {
    "colab": {
     "base_uri": "https://localhost:8080/",
     "height": 581
    },
    "id": "A9e2_NoPMRfK",
    "outputId": "353fa631-78a2-43f5-dcdd-d463aeaaa800"
   },
   "outputs": [
    {
     "data": {
      "text/html": [
       "<div>\n",
       "<style scoped>\n",
       "    .dataframe tbody tr th:only-of-type {\n",
       "        vertical-align: middle;\n",
       "    }\n",
       "\n",
       "    .dataframe tbody tr th {\n",
       "        vertical-align: top;\n",
       "    }\n",
       "\n",
       "    .dataframe thead th {\n",
       "        text-align: right;\n",
       "    }\n",
       "</style>\n",
       "<table border=\"1\" class=\"dataframe\">\n",
       "  <thead>\n",
       "    <tr style=\"text-align: right;\">\n",
       "      <th></th>\n",
       "      <th>Carat Weight</th>\n",
       "      <th>Price</th>\n",
       "      <th>is_best_diamond</th>\n",
       "    </tr>\n",
       "  </thead>\n",
       "  <tbody>\n",
       "    <tr>\n",
       "      <th>Carat Weight</th>\n",
       "      <td>1.000000</td>\n",
       "      <td>0.858562</td>\n",
       "      <td>-0.057037</td>\n",
       "    </tr>\n",
       "    <tr>\n",
       "      <th>Price</th>\n",
       "      <td>0.858562</td>\n",
       "      <td>1.000000</td>\n",
       "      <td>-0.005152</td>\n",
       "    </tr>\n",
       "    <tr>\n",
       "      <th>is_best_diamond</th>\n",
       "      <td>-0.057037</td>\n",
       "      <td>-0.005152</td>\n",
       "      <td>1.000000</td>\n",
       "    </tr>\n",
       "  </tbody>\n",
       "</table>\n",
       "</div>"
      ],
      "text/plain": [
       "                 Carat Weight     Price  is_best_diamond\n",
       "Carat Weight         1.000000  0.858562        -0.057037\n",
       "Price                0.858562  1.000000        -0.005152\n",
       "is_best_diamond     -0.057037 -0.005152         1.000000"
      ]
     },
     "execution_count": 164,
     "metadata": {},
     "output_type": "execute_result"
    }
   ],
   "source": [
    "df[df.select_dtypes(include=[np.number]).columns].corr()"
   ]
  },
  {
   "cell_type": "markdown",
   "metadata": {
    "id": "v2KxpxnBMyDL"
   },
   "source": [
    "2. ⏰ **Интерпретировать результаты:**"
   ]
  },
  {
   "cell_type": "markdown",
   "metadata": {
    "id": "nSVkl345PZOK"
   },
   "source": [
    "### Описание корреляций для значимых признаков:"
   ]
  },
  {
   "cell_type": "markdown",
   "metadata": {
    "id": "Faea4u5mPd5B"
   },
   "source": [
    "1. Корреляция между Carat Weight (Вес карата) и Price (Цена):\n",
    "    Коэффициент корреляции: 0.8586.\n",
    "    Высокая положительная корреляция, что указывает на сильную связь между весом бриллианта и его ценой. Это ожидаемо, так как более крупные бриллианты обычно стоят дороже.\n",
    "   \n",
    "3. Корреляция между Carat Weight (Вес карата) и is_best_diamond:\n",
    "    Коэффициент корреляции: -0.0570.\n",
    "    Слабая отрицательная корреляция, что означает, что вес карата практически не связан с тем, является ли бриллиант \"лучшим\". Более тяжелые бриллианты не обязательно относятся к категории лучших бриллиантов.\n",
    "   \n",
    "5. Корреляция между Price (Цена) и is_best_diamond:\n",
    "Коэффициент корреляции: -0.0052.\n",
    "Почти нулевая корреляция, что указывает на отсутствие значимой связи между ценой бриллианта и тем, является ли он лучшим. Лучшие бриллианты могут стоить как меньше, так и больше обычных, и это не определяется только их статусом.\n",
    "\n",
    "Основные выводы:\n",
    "    Цена и вес бриллианта сильно взаимосвязаны (чем больше вес, тем выше цена).\n",
    "    Вес бриллианта не является важным фактором для определения того, является ли он лучшим.\n",
    "    Статус \"лучший бриллиант\" слабо коррелирует с ценой, что может указывать на то, что другие характеристики (огранка, симметрия, полировка и сертификат) влияют на статус \"лучший\" больше, чем цена."
   ]
  },
  {
   "cell_type": "markdown",
   "metadata": {
    "id": "Jy_5Ydv0Q6pl"
   },
   "source": [
    "## 3. Машинное обучение"
   ]
  },
  {
   "cell_type": "code",
   "execution_count": 184,
   "metadata": {},
   "outputs": [],
   "source": [
    "df = 0"
   ]
  },
  {
   "cell_type": "code",
   "execution_count": 185,
   "metadata": {},
   "outputs": [],
   "source": [
    "df = pd.read_csv('C:/Users/vitya/diamond.csv')"
   ]
  },
  {
   "cell_type": "code",
   "execution_count": 186,
   "metadata": {
    "id": "EaXN0RZRRdeV"
   },
   "outputs": [],
   "source": [
    "from sklearn.model_selection import train_test_split\n",
    "from sklearn.preprocessing import MinMaxScaler, OneHotEncoder\n",
    "from sklearn.linear_model import LogisticRegression\n",
    "from sklearn.metrics import accuracy_score, classification_report"
   ]
  },
  {
   "cell_type": "code",
   "execution_count": 187,
   "metadata": {
    "colab": {
     "base_uri": "https://localhost:8080/"
    },
    "id": "DdR9yP9pQ9Ds",
    "outputId": "4e35f9e0-73c2-4d8a-8867-1c5d23d1dec2"
   },
   "outputs": [
    {
     "name": "stdout",
     "output_type": "stream",
     "text": [
      "Категориальные признаки: ['Color', 'Clarity', 'Polish', 'Symmetry', 'Report']\n"
     ]
    }
   ],
   "source": [
    "# Выбираем категориальные признаки\n",
    "categorical_features = X.select_dtypes(include=['object']).columns.tolist()\n",
    "\n",
    "print(\"Категориальные признаки:\", categorical_features)\n"
   ]
  },
  {
   "cell_type": "code",
   "execution_count": 188,
   "metadata": {
    "id": "lTk0CBB0RGXN"
   },
   "outputs": [],
   "source": [
    "# Создаем копию данных\n",
    "X_processed = X.copy()\n",
    "\n",
    "# Применяем One-Hot Encoding\n",
    "X_processed = pd.get_dummies(X_processed, columns=categorical_features, drop_first=True) # drop_first=True позволяет избежать мультиколлинеарности, удаляя первый уровень категориальной переменной.\n"
   ]
  },
  {
   "cell_type": "code",
   "execution_count": 189,
   "metadata": {
    "colab": {
     "base_uri": "https://localhost:8080/",
     "height": 478
    },
    "id": "eNMqQxUERKPG",
    "outputId": "052eff9c-b743-41ae-e6ef-89255cc50322"
   },
   "outputs": [
    {
     "data": {
      "text/html": [
       "<div>\n",
       "<style scoped>\n",
       "    .dataframe tbody tr th:only-of-type {\n",
       "        vertical-align: middle;\n",
       "    }\n",
       "\n",
       "    .dataframe tbody tr th {\n",
       "        vertical-align: top;\n",
       "    }\n",
       "\n",
       "    .dataframe thead th {\n",
       "        text-align: right;\n",
       "    }\n",
       "</style>\n",
       "<table border=\"1\" class=\"dataframe\">\n",
       "  <thead>\n",
       "    <tr style=\"text-align: right;\">\n",
       "      <th></th>\n",
       "      <th>Carat Weight</th>\n",
       "      <th>Price</th>\n",
       "      <th>Color_E</th>\n",
       "      <th>Color_F</th>\n",
       "      <th>Color_G</th>\n",
       "      <th>Color_H</th>\n",
       "      <th>Color_I</th>\n",
       "      <th>Clarity_IF</th>\n",
       "      <th>Clarity_SI1</th>\n",
       "      <th>Clarity_VS1</th>\n",
       "      <th>Clarity_VS2</th>\n",
       "      <th>Clarity_VVS1</th>\n",
       "      <th>Clarity_VVS2</th>\n",
       "      <th>Polish_G</th>\n",
       "      <th>Polish_ID</th>\n",
       "      <th>Polish_VG</th>\n",
       "      <th>Symmetry_G</th>\n",
       "      <th>Symmetry_ID</th>\n",
       "      <th>Symmetry_VG</th>\n",
       "      <th>Report_GIA</th>\n",
       "    </tr>\n",
       "  </thead>\n",
       "  <tbody>\n",
       "    <tr>\n",
       "      <th>0</th>\n",
       "      <td>1.10</td>\n",
       "      <td>5169</td>\n",
       "      <td>False</td>\n",
       "      <td>False</td>\n",
       "      <td>False</td>\n",
       "      <td>True</td>\n",
       "      <td>False</td>\n",
       "      <td>False</td>\n",
       "      <td>True</td>\n",
       "      <td>False</td>\n",
       "      <td>False</td>\n",
       "      <td>False</td>\n",
       "      <td>False</td>\n",
       "      <td>False</td>\n",
       "      <td>False</td>\n",
       "      <td>True</td>\n",
       "      <td>False</td>\n",
       "      <td>False</td>\n",
       "      <td>False</td>\n",
       "      <td>True</td>\n",
       "    </tr>\n",
       "    <tr>\n",
       "      <th>1</th>\n",
       "      <td>0.83</td>\n",
       "      <td>3470</td>\n",
       "      <td>False</td>\n",
       "      <td>False</td>\n",
       "      <td>False</td>\n",
       "      <td>True</td>\n",
       "      <td>False</td>\n",
       "      <td>False</td>\n",
       "      <td>False</td>\n",
       "      <td>True</td>\n",
       "      <td>False</td>\n",
       "      <td>False</td>\n",
       "      <td>False</td>\n",
       "      <td>False</td>\n",
       "      <td>True</td>\n",
       "      <td>False</td>\n",
       "      <td>False</td>\n",
       "      <td>True</td>\n",
       "      <td>False</td>\n",
       "      <td>False</td>\n",
       "    </tr>\n",
       "    <tr>\n",
       "      <th>2</th>\n",
       "      <td>0.85</td>\n",
       "      <td>3183</td>\n",
       "      <td>False</td>\n",
       "      <td>False</td>\n",
       "      <td>False</td>\n",
       "      <td>True</td>\n",
       "      <td>False</td>\n",
       "      <td>False</td>\n",
       "      <td>True</td>\n",
       "      <td>False</td>\n",
       "      <td>False</td>\n",
       "      <td>False</td>\n",
       "      <td>False</td>\n",
       "      <td>False</td>\n",
       "      <td>False</td>\n",
       "      <td>False</td>\n",
       "      <td>False</td>\n",
       "      <td>False</td>\n",
       "      <td>False</td>\n",
       "      <td>True</td>\n",
       "    </tr>\n",
       "    <tr>\n",
       "      <th>3</th>\n",
       "      <td>0.91</td>\n",
       "      <td>4370</td>\n",
       "      <td>True</td>\n",
       "      <td>False</td>\n",
       "      <td>False</td>\n",
       "      <td>False</td>\n",
       "      <td>False</td>\n",
       "      <td>False</td>\n",
       "      <td>True</td>\n",
       "      <td>False</td>\n",
       "      <td>False</td>\n",
       "      <td>False</td>\n",
       "      <td>False</td>\n",
       "      <td>False</td>\n",
       "      <td>False</td>\n",
       "      <td>True</td>\n",
       "      <td>False</td>\n",
       "      <td>False</td>\n",
       "      <td>True</td>\n",
       "      <td>True</td>\n",
       "    </tr>\n",
       "    <tr>\n",
       "      <th>4</th>\n",
       "      <td>0.83</td>\n",
       "      <td>3171</td>\n",
       "      <td>False</td>\n",
       "      <td>False</td>\n",
       "      <td>True</td>\n",
       "      <td>False</td>\n",
       "      <td>False</td>\n",
       "      <td>False</td>\n",
       "      <td>True</td>\n",
       "      <td>False</td>\n",
       "      <td>False</td>\n",
       "      <td>False</td>\n",
       "      <td>False</td>\n",
       "      <td>False</td>\n",
       "      <td>False</td>\n",
       "      <td>False</td>\n",
       "      <td>False</td>\n",
       "      <td>False</td>\n",
       "      <td>False</td>\n",
       "      <td>True</td>\n",
       "    </tr>\n",
       "    <tr>\n",
       "      <th>...</th>\n",
       "      <td>...</td>\n",
       "      <td>...</td>\n",
       "      <td>...</td>\n",
       "      <td>...</td>\n",
       "      <td>...</td>\n",
       "      <td>...</td>\n",
       "      <td>...</td>\n",
       "      <td>...</td>\n",
       "      <td>...</td>\n",
       "      <td>...</td>\n",
       "      <td>...</td>\n",
       "      <td>...</td>\n",
       "      <td>...</td>\n",
       "      <td>...</td>\n",
       "      <td>...</td>\n",
       "      <td>...</td>\n",
       "      <td>...</td>\n",
       "      <td>...</td>\n",
       "      <td>...</td>\n",
       "      <td>...</td>\n",
       "    </tr>\n",
       "    <tr>\n",
       "      <th>5995</th>\n",
       "      <td>1.03</td>\n",
       "      <td>6250</td>\n",
       "      <td>False</td>\n",
       "      <td>False</td>\n",
       "      <td>False</td>\n",
       "      <td>False</td>\n",
       "      <td>False</td>\n",
       "      <td>False</td>\n",
       "      <td>True</td>\n",
       "      <td>False</td>\n",
       "      <td>False</td>\n",
       "      <td>False</td>\n",
       "      <td>False</td>\n",
       "      <td>False</td>\n",
       "      <td>False</td>\n",
       "      <td>False</td>\n",
       "      <td>False</td>\n",
       "      <td>False</td>\n",
       "      <td>False</td>\n",
       "      <td>True</td>\n",
       "    </tr>\n",
       "    <tr>\n",
       "      <th>5996</th>\n",
       "      <td>1.00</td>\n",
       "      <td>5328</td>\n",
       "      <td>False</td>\n",
       "      <td>False</td>\n",
       "      <td>False</td>\n",
       "      <td>False</td>\n",
       "      <td>False</td>\n",
       "      <td>False</td>\n",
       "      <td>True</td>\n",
       "      <td>False</td>\n",
       "      <td>False</td>\n",
       "      <td>False</td>\n",
       "      <td>False</td>\n",
       "      <td>False</td>\n",
       "      <td>False</td>\n",
       "      <td>True</td>\n",
       "      <td>False</td>\n",
       "      <td>False</td>\n",
       "      <td>True</td>\n",
       "      <td>True</td>\n",
       "    </tr>\n",
       "    <tr>\n",
       "      <th>5997</th>\n",
       "      <td>1.02</td>\n",
       "      <td>6157</td>\n",
       "      <td>False</td>\n",
       "      <td>False</td>\n",
       "      <td>False</td>\n",
       "      <td>False</td>\n",
       "      <td>False</td>\n",
       "      <td>False</td>\n",
       "      <td>True</td>\n",
       "      <td>False</td>\n",
       "      <td>False</td>\n",
       "      <td>False</td>\n",
       "      <td>False</td>\n",
       "      <td>False</td>\n",
       "      <td>False</td>\n",
       "      <td>False</td>\n",
       "      <td>False</td>\n",
       "      <td>False</td>\n",
       "      <td>False</td>\n",
       "      <td>True</td>\n",
       "    </tr>\n",
       "    <tr>\n",
       "      <th>5998</th>\n",
       "      <td>1.27</td>\n",
       "      <td>11206</td>\n",
       "      <td>False</td>\n",
       "      <td>False</td>\n",
       "      <td>True</td>\n",
       "      <td>False</td>\n",
       "      <td>False</td>\n",
       "      <td>False</td>\n",
       "      <td>False</td>\n",
       "      <td>True</td>\n",
       "      <td>False</td>\n",
       "      <td>False</td>\n",
       "      <td>False</td>\n",
       "      <td>False</td>\n",
       "      <td>False</td>\n",
       "      <td>False</td>\n",
       "      <td>False</td>\n",
       "      <td>False</td>\n",
       "      <td>False</td>\n",
       "      <td>True</td>\n",
       "    </tr>\n",
       "    <tr>\n",
       "      <th>5999</th>\n",
       "      <td>2.19</td>\n",
       "      <td>30507</td>\n",
       "      <td>True</td>\n",
       "      <td>False</td>\n",
       "      <td>False</td>\n",
       "      <td>False</td>\n",
       "      <td>False</td>\n",
       "      <td>False</td>\n",
       "      <td>False</td>\n",
       "      <td>True</td>\n",
       "      <td>False</td>\n",
       "      <td>False</td>\n",
       "      <td>False</td>\n",
       "      <td>False</td>\n",
       "      <td>False</td>\n",
       "      <td>False</td>\n",
       "      <td>False</td>\n",
       "      <td>False</td>\n",
       "      <td>False</td>\n",
       "      <td>True</td>\n",
       "    </tr>\n",
       "  </tbody>\n",
       "</table>\n",
       "<p>6000 rows × 20 columns</p>\n",
       "</div>"
      ],
      "text/plain": [
       "      Carat Weight  Price  Color_E  Color_F  Color_G  Color_H  Color_I  \\\n",
       "0             1.10   5169    False    False    False     True    False   \n",
       "1             0.83   3470    False    False    False     True    False   \n",
       "2             0.85   3183    False    False    False     True    False   \n",
       "3             0.91   4370     True    False    False    False    False   \n",
       "4             0.83   3171    False    False     True    False    False   \n",
       "...            ...    ...      ...      ...      ...      ...      ...   \n",
       "5995          1.03   6250    False    False    False    False    False   \n",
       "5996          1.00   5328    False    False    False    False    False   \n",
       "5997          1.02   6157    False    False    False    False    False   \n",
       "5998          1.27  11206    False    False     True    False    False   \n",
       "5999          2.19  30507     True    False    False    False    False   \n",
       "\n",
       "      Clarity_IF  Clarity_SI1  Clarity_VS1  Clarity_VS2  Clarity_VVS1  \\\n",
       "0          False         True        False        False         False   \n",
       "1          False        False         True        False         False   \n",
       "2          False         True        False        False         False   \n",
       "3          False         True        False        False         False   \n",
       "4          False         True        False        False         False   \n",
       "...          ...          ...          ...          ...           ...   \n",
       "5995       False         True        False        False         False   \n",
       "5996       False         True        False        False         False   \n",
       "5997       False         True        False        False         False   \n",
       "5998       False        False         True        False         False   \n",
       "5999       False        False         True        False         False   \n",
       "\n",
       "      Clarity_VVS2  Polish_G  Polish_ID  Polish_VG  Symmetry_G  Symmetry_ID  \\\n",
       "0            False     False      False       True       False        False   \n",
       "1            False     False       True      False       False         True   \n",
       "2            False     False      False      False       False        False   \n",
       "3            False     False      False       True       False        False   \n",
       "4            False     False      False      False       False        False   \n",
       "...            ...       ...        ...        ...         ...          ...   \n",
       "5995         False     False      False      False       False        False   \n",
       "5996         False     False      False       True       False        False   \n",
       "5997         False     False      False      False       False        False   \n",
       "5998         False     False      False      False       False        False   \n",
       "5999         False     False      False      False       False        False   \n",
       "\n",
       "      Symmetry_VG  Report_GIA  \n",
       "0           False        True  \n",
       "1           False       False  \n",
       "2           False        True  \n",
       "3            True        True  \n",
       "4           False        True  \n",
       "...           ...         ...  \n",
       "5995        False        True  \n",
       "5996         True        True  \n",
       "5997        False        True  \n",
       "5998        False        True  \n",
       "5999        False        True  \n",
       "\n",
       "[6000 rows x 20 columns]"
      ]
     },
     "execution_count": 189,
     "metadata": {},
     "output_type": "execute_result"
    }
   ],
   "source": [
    "X_processed"
   ]
  },
  {
   "cell_type": "code",
   "execution_count": 190,
   "metadata": {
    "colab": {
     "base_uri": "https://localhost:8080/"
    },
    "id": "UJP2t855RNIQ",
    "outputId": "1280e187-fbda-439e-97e1-752f11d24e3b"
   },
   "outputs": [
    {
     "name": "stdout",
     "output_type": "stream",
     "text": [
      "Числовые признаки: ['Carat Weight', 'Price']\n"
     ]
    }
   ],
   "source": [
    "# Выбираем числовые признаки\n",
    "numeric_features = X_processed.select_dtypes(include=['float64', 'int']).columns.tolist()\n",
    "\n",
    "print(\"Числовые признаки:\", numeric_features)"
   ]
  },
  {
   "cell_type": "code",
   "execution_count": 191,
   "metadata": {
    "id": "I6T1wnUbRXMz"
   },
   "outputs": [],
   "source": [
    "# Инициализируем scaler\n",
    "scaler = MinMaxScaler()\n",
    "\n",
    "# Применяем нормализацию\n",
    "X_processed[numeric_features] = scaler.fit_transform(X_processed[numeric_features])\n"
   ]
  },
  {
   "cell_type": "code",
   "execution_count": 192,
   "metadata": {
    "colab": {
     "base_uri": "https://localhost:8080/",
     "height": 458
    },
    "id": "pZ7BfPUbRfUL",
    "outputId": "f6f99d6c-54b4-44f3-ca85-9adeee51bfec"
   },
   "outputs": [
    {
     "data": {
      "text/html": [
       "<div>\n",
       "<style scoped>\n",
       "    .dataframe tbody tr th:only-of-type {\n",
       "        vertical-align: middle;\n",
       "    }\n",
       "\n",
       "    .dataframe tbody tr th {\n",
       "        vertical-align: top;\n",
       "    }\n",
       "\n",
       "    .dataframe thead th {\n",
       "        text-align: right;\n",
       "    }\n",
       "</style>\n",
       "<table border=\"1\" class=\"dataframe\">\n",
       "  <thead>\n",
       "    <tr style=\"text-align: right;\">\n",
       "      <th></th>\n",
       "      <th>Carat Weight</th>\n",
       "      <th>Price</th>\n",
       "      <th>Color_E</th>\n",
       "      <th>Color_F</th>\n",
       "      <th>Color_G</th>\n",
       "      <th>Color_H</th>\n",
       "      <th>Color_I</th>\n",
       "      <th>Clarity_IF</th>\n",
       "      <th>Clarity_SI1</th>\n",
       "      <th>Clarity_VS1</th>\n",
       "      <th>Clarity_VS2</th>\n",
       "      <th>Clarity_VVS1</th>\n",
       "      <th>Clarity_VVS2</th>\n",
       "      <th>Polish_G</th>\n",
       "      <th>Polish_ID</th>\n",
       "      <th>Polish_VG</th>\n",
       "      <th>Symmetry_G</th>\n",
       "      <th>Symmetry_ID</th>\n",
       "      <th>Symmetry_VG</th>\n",
       "      <th>Report_GIA</th>\n",
       "    </tr>\n",
       "  </thead>\n",
       "  <tbody>\n",
       "    <tr>\n",
       "      <th>0</th>\n",
       "      <td>0.162037</td>\n",
       "      <td>0.030037</td>\n",
       "      <td>False</td>\n",
       "      <td>False</td>\n",
       "      <td>False</td>\n",
       "      <td>True</td>\n",
       "      <td>False</td>\n",
       "      <td>False</td>\n",
       "      <td>True</td>\n",
       "      <td>False</td>\n",
       "      <td>False</td>\n",
       "      <td>False</td>\n",
       "      <td>False</td>\n",
       "      <td>False</td>\n",
       "      <td>False</td>\n",
       "      <td>True</td>\n",
       "      <td>False</td>\n",
       "      <td>False</td>\n",
       "      <td>False</td>\n",
       "      <td>True</td>\n",
       "    </tr>\n",
       "    <tr>\n",
       "      <th>1</th>\n",
       "      <td>0.037037</td>\n",
       "      <td>0.012941</td>\n",
       "      <td>False</td>\n",
       "      <td>False</td>\n",
       "      <td>False</td>\n",
       "      <td>True</td>\n",
       "      <td>False</td>\n",
       "      <td>False</td>\n",
       "      <td>False</td>\n",
       "      <td>True</td>\n",
       "      <td>False</td>\n",
       "      <td>False</td>\n",
       "      <td>False</td>\n",
       "      <td>False</td>\n",
       "      <td>True</td>\n",
       "      <td>False</td>\n",
       "      <td>False</td>\n",
       "      <td>True</td>\n",
       "      <td>False</td>\n",
       "      <td>False</td>\n",
       "    </tr>\n",
       "    <tr>\n",
       "      <th>2</th>\n",
       "      <td>0.046296</td>\n",
       "      <td>0.010053</td>\n",
       "      <td>False</td>\n",
       "      <td>False</td>\n",
       "      <td>False</td>\n",
       "      <td>True</td>\n",
       "      <td>False</td>\n",
       "      <td>False</td>\n",
       "      <td>True</td>\n",
       "      <td>False</td>\n",
       "      <td>False</td>\n",
       "      <td>False</td>\n",
       "      <td>False</td>\n",
       "      <td>False</td>\n",
       "      <td>False</td>\n",
       "      <td>False</td>\n",
       "      <td>False</td>\n",
       "      <td>False</td>\n",
       "      <td>False</td>\n",
       "      <td>True</td>\n",
       "    </tr>\n",
       "    <tr>\n",
       "      <th>3</th>\n",
       "      <td>0.074074</td>\n",
       "      <td>0.021997</td>\n",
       "      <td>True</td>\n",
       "      <td>False</td>\n",
       "      <td>False</td>\n",
       "      <td>False</td>\n",
       "      <td>False</td>\n",
       "      <td>False</td>\n",
       "      <td>True</td>\n",
       "      <td>False</td>\n",
       "      <td>False</td>\n",
       "      <td>False</td>\n",
       "      <td>False</td>\n",
       "      <td>False</td>\n",
       "      <td>False</td>\n",
       "      <td>True</td>\n",
       "      <td>False</td>\n",
       "      <td>False</td>\n",
       "      <td>True</td>\n",
       "      <td>True</td>\n",
       "    </tr>\n",
       "    <tr>\n",
       "      <th>4</th>\n",
       "      <td>0.037037</td>\n",
       "      <td>0.009932</td>\n",
       "      <td>False</td>\n",
       "      <td>False</td>\n",
       "      <td>True</td>\n",
       "      <td>False</td>\n",
       "      <td>False</td>\n",
       "      <td>False</td>\n",
       "      <td>True</td>\n",
       "      <td>False</td>\n",
       "      <td>False</td>\n",
       "      <td>False</td>\n",
       "      <td>False</td>\n",
       "      <td>False</td>\n",
       "      <td>False</td>\n",
       "      <td>False</td>\n",
       "      <td>False</td>\n",
       "      <td>False</td>\n",
       "      <td>False</td>\n",
       "      <td>True</td>\n",
       "    </tr>\n",
       "    <tr>\n",
       "      <th>...</th>\n",
       "      <td>...</td>\n",
       "      <td>...</td>\n",
       "      <td>...</td>\n",
       "      <td>...</td>\n",
       "      <td>...</td>\n",
       "      <td>...</td>\n",
       "      <td>...</td>\n",
       "      <td>...</td>\n",
       "      <td>...</td>\n",
       "      <td>...</td>\n",
       "      <td>...</td>\n",
       "      <td>...</td>\n",
       "      <td>...</td>\n",
       "      <td>...</td>\n",
       "      <td>...</td>\n",
       "      <td>...</td>\n",
       "      <td>...</td>\n",
       "      <td>...</td>\n",
       "      <td>...</td>\n",
       "      <td>...</td>\n",
       "    </tr>\n",
       "    <tr>\n",
       "      <th>5995</th>\n",
       "      <td>0.129630</td>\n",
       "      <td>0.040915</td>\n",
       "      <td>False</td>\n",
       "      <td>False</td>\n",
       "      <td>False</td>\n",
       "      <td>False</td>\n",
       "      <td>False</td>\n",
       "      <td>False</td>\n",
       "      <td>True</td>\n",
       "      <td>False</td>\n",
       "      <td>False</td>\n",
       "      <td>False</td>\n",
       "      <td>False</td>\n",
       "      <td>False</td>\n",
       "      <td>False</td>\n",
       "      <td>False</td>\n",
       "      <td>False</td>\n",
       "      <td>False</td>\n",
       "      <td>False</td>\n",
       "      <td>True</td>\n",
       "    </tr>\n",
       "    <tr>\n",
       "      <th>5996</th>\n",
       "      <td>0.115741</td>\n",
       "      <td>0.031637</td>\n",
       "      <td>False</td>\n",
       "      <td>False</td>\n",
       "      <td>False</td>\n",
       "      <td>False</td>\n",
       "      <td>False</td>\n",
       "      <td>False</td>\n",
       "      <td>True</td>\n",
       "      <td>False</td>\n",
       "      <td>False</td>\n",
       "      <td>False</td>\n",
       "      <td>False</td>\n",
       "      <td>False</td>\n",
       "      <td>False</td>\n",
       "      <td>True</td>\n",
       "      <td>False</td>\n",
       "      <td>False</td>\n",
       "      <td>True</td>\n",
       "      <td>True</td>\n",
       "    </tr>\n",
       "    <tr>\n",
       "      <th>5997</th>\n",
       "      <td>0.125000</td>\n",
       "      <td>0.039979</td>\n",
       "      <td>False</td>\n",
       "      <td>False</td>\n",
       "      <td>False</td>\n",
       "      <td>False</td>\n",
       "      <td>False</td>\n",
       "      <td>False</td>\n",
       "      <td>True</td>\n",
       "      <td>False</td>\n",
       "      <td>False</td>\n",
       "      <td>False</td>\n",
       "      <td>False</td>\n",
       "      <td>False</td>\n",
       "      <td>False</td>\n",
       "      <td>False</td>\n",
       "      <td>False</td>\n",
       "      <td>False</td>\n",
       "      <td>False</td>\n",
       "      <td>True</td>\n",
       "    </tr>\n",
       "    <tr>\n",
       "      <th>5998</th>\n",
       "      <td>0.240741</td>\n",
       "      <td>0.090786</td>\n",
       "      <td>False</td>\n",
       "      <td>False</td>\n",
       "      <td>True</td>\n",
       "      <td>False</td>\n",
       "      <td>False</td>\n",
       "      <td>False</td>\n",
       "      <td>False</td>\n",
       "      <td>True</td>\n",
       "      <td>False</td>\n",
       "      <td>False</td>\n",
       "      <td>False</td>\n",
       "      <td>False</td>\n",
       "      <td>False</td>\n",
       "      <td>False</td>\n",
       "      <td>False</td>\n",
       "      <td>False</td>\n",
       "      <td>False</td>\n",
       "      <td>True</td>\n",
       "    </tr>\n",
       "    <tr>\n",
       "      <th>5999</th>\n",
       "      <td>0.666667</td>\n",
       "      <td>0.285006</td>\n",
       "      <td>True</td>\n",
       "      <td>False</td>\n",
       "      <td>False</td>\n",
       "      <td>False</td>\n",
       "      <td>False</td>\n",
       "      <td>False</td>\n",
       "      <td>False</td>\n",
       "      <td>True</td>\n",
       "      <td>False</td>\n",
       "      <td>False</td>\n",
       "      <td>False</td>\n",
       "      <td>False</td>\n",
       "      <td>False</td>\n",
       "      <td>False</td>\n",
       "      <td>False</td>\n",
       "      <td>False</td>\n",
       "      <td>False</td>\n",
       "      <td>True</td>\n",
       "    </tr>\n",
       "  </tbody>\n",
       "</table>\n",
       "<p>6000 rows × 20 columns</p>\n",
       "</div>"
      ],
      "text/plain": [
       "      Carat Weight     Price  Color_E  Color_F  Color_G  Color_H  Color_I  \\\n",
       "0         0.162037  0.030037    False    False    False     True    False   \n",
       "1         0.037037  0.012941    False    False    False     True    False   \n",
       "2         0.046296  0.010053    False    False    False     True    False   \n",
       "3         0.074074  0.021997     True    False    False    False    False   \n",
       "4         0.037037  0.009932    False    False     True    False    False   \n",
       "...            ...       ...      ...      ...      ...      ...      ...   \n",
       "5995      0.129630  0.040915    False    False    False    False    False   \n",
       "5996      0.115741  0.031637    False    False    False    False    False   \n",
       "5997      0.125000  0.039979    False    False    False    False    False   \n",
       "5998      0.240741  0.090786    False    False     True    False    False   \n",
       "5999      0.666667  0.285006     True    False    False    False    False   \n",
       "\n",
       "      Clarity_IF  Clarity_SI1  Clarity_VS1  Clarity_VS2  Clarity_VVS1  \\\n",
       "0          False         True        False        False         False   \n",
       "1          False        False         True        False         False   \n",
       "2          False         True        False        False         False   \n",
       "3          False         True        False        False         False   \n",
       "4          False         True        False        False         False   \n",
       "...          ...          ...          ...          ...           ...   \n",
       "5995       False         True        False        False         False   \n",
       "5996       False         True        False        False         False   \n",
       "5997       False         True        False        False         False   \n",
       "5998       False        False         True        False         False   \n",
       "5999       False        False         True        False         False   \n",
       "\n",
       "      Clarity_VVS2  Polish_G  Polish_ID  Polish_VG  Symmetry_G  Symmetry_ID  \\\n",
       "0            False     False      False       True       False        False   \n",
       "1            False     False       True      False       False         True   \n",
       "2            False     False      False      False       False        False   \n",
       "3            False     False      False       True       False        False   \n",
       "4            False     False      False      False       False        False   \n",
       "...            ...       ...        ...        ...         ...          ...   \n",
       "5995         False     False      False      False       False        False   \n",
       "5996         False     False      False       True       False        False   \n",
       "5997         False     False      False      False       False        False   \n",
       "5998         False     False      False      False       False        False   \n",
       "5999         False     False      False      False       False        False   \n",
       "\n",
       "      Symmetry_VG  Report_GIA  \n",
       "0           False        True  \n",
       "1           False       False  \n",
       "2           False        True  \n",
       "3            True        True  \n",
       "4           False        True  \n",
       "...           ...         ...  \n",
       "5995        False        True  \n",
       "5996         True        True  \n",
       "5997        False        True  \n",
       "5998        False        True  \n",
       "5999        False        True  \n",
       "\n",
       "[6000 rows x 20 columns]"
      ]
     },
     "execution_count": 192,
     "metadata": {},
     "output_type": "execute_result"
    }
   ],
   "source": [
    "X_processed"
   ]
  },
  {
   "cell_type": "markdown",
   "metadata": {
    "id": "-3f-a3jkRsDf"
   },
   "source": [
    "**Функция для обучения и оценки модели**"
   ]
  },
  {
   "cell_type": "code",
   "execution_count": 193,
   "metadata": {
    "id": "ISOh8FAUR6C8"
   },
   "outputs": [],
   "source": [
    "def train_and_evaluate(X, Y):\n",
    "    # Разделение данных на обучающую и тестовую выборки\n",
    "    X_train, X_test, Y_train, Y_test = train_test_split(\n",
    "        X, Y, test_size=0.2, random_state=42, stratify=Y)\n",
    "\n",
    "    # Инициализация модели\n",
    "    model = LogisticRegression(max_iter=1000)\n",
    "\n",
    "    # Обучение модели\n",
    "    model.fit(X_train, Y_train)\n",
    "\n",
    "    # Предсказания на обучающей выборке\n",
    "    Y_train_pred = model.predict(X_train)\n",
    "    train_accuracy = accuracy_score(Y_train, Y_train_pred)\n",
    "\n",
    "    # Предсказания на тестовой выборке\n",
    "    Y_test_pred = model.predict(X_test)\n",
    "    test_accuracy = accuracy_score(Y_test, Y_test_pred)\n",
    "\n",
    "    # Вывод результатов\n",
    "    print(f\"Точность на обучающей выборке: {train_accuracy:.4f}\")\n",
    "    print(f\"Точность на тестовой выборке: {test_accuracy:.4f}\")\n",
    "\n",
    "    # Классификационный отчет\n",
    "    print(\"\\nКлассификационный отчет на тестовой выборке:\")\n",
    "    print(classification_report(Y_test, Y_test_pred))\n",
    "\n",
    "    return model\n"
   ]
  },
  {
   "cell_type": "code",
   "execution_count": 194,
   "metadata": {
    "colab": {
     "base_uri": "https://localhost:8080/"
    },
    "id": "zY3_h4I8R9hI",
    "outputId": "0d62b680-d4bb-4e53-cd7f-d85db1d03d00"
   },
   "outputs": [
    {
     "name": "stdout",
     "output_type": "stream",
     "text": [
      "Точность на обучающей выборке: 0.9575\n",
      "Точность на тестовой выборке: 0.9583\n",
      "\n",
      "Классификационный отчет на тестовой выборке:\n",
      "              precision    recall  f1-score   support\n",
      "\n",
      "           0       0.96      1.00      0.98      1149\n",
      "           1       0.67      0.04      0.07        51\n",
      "\n",
      "    accuracy                           0.96      1200\n",
      "   macro avg       0.81      0.52      0.53      1200\n",
      "weighted avg       0.95      0.96      0.94      1200\n",
      "\n"
     ]
    }
   ],
   "source": [
    "# Обучение модели\n",
    "model = train_and_evaluate(X_processed, Y)"
   ]
  },
  {
   "cell_type": "code",
   "execution_count": 195,
   "metadata": {
    "colab": {
     "base_uri": "https://localhost:8080/"
    },
    "id": "6KwHGCQZR_iP",
    "outputId": "bd0c18ea-6fc3-4a24-87b5-8d589a1f757a"
   },
   "outputs": [
    {
     "name": "stdout",
     "output_type": "stream",
     "text": [
      "         Feature  Coefficient\n",
      "18   Symmetry_VG    -2.634451\n",
      "15     Polish_VG    -2.360461\n",
      "0   Carat Weight    -2.149285\n",
      "16    Symmetry_G    -1.724458\n",
      "14     Polish_ID     1.688578\n",
      "1          Price     1.495456\n",
      "13      Polish_G    -1.245366\n",
      "17   Symmetry_ID     1.073655\n",
      "6        Color_I    -0.621294\n",
      "10   Clarity_VS2    -0.619546\n",
      "12  Clarity_VVS2    -0.561372\n",
      "19    Report_GIA     0.517436\n",
      "5        Color_H    -0.442742\n",
      "4        Color_G    -0.437939\n",
      "11  Clarity_VVS1    -0.385009\n",
      "7     Clarity_IF    -0.341001\n",
      "8    Clarity_SI1    -0.297800\n",
      "2        Color_E     0.186527\n",
      "3        Color_F    -0.167219\n",
      "9    Clarity_VS1    -0.033485\n"
     ]
    }
   ],
   "source": [
    "# Получение коэффициентов модели\n",
    "coefficients = pd.DataFrame({\n",
    "    'Feature': X_processed.columns,\n",
    "    'Coefficient': model.coef_[0]\n",
    "})\n",
    "\n",
    "# Сортировка по абсолютному значению коэффициента\n",
    "coefficients['Abs_Coefficient'] = coefficients['Coefficient'].abs()\n",
    "coefficients = coefficients.sort_values(by='Abs_Coefficient', ascending=False)\n",
    "\n",
    "print(coefficients[['Feature', 'Coefficient']])\n"
   ]
  },
  {
   "cell_type": "markdown",
   "metadata": {
    "id": "_T6lnsZXVLSY"
   },
   "source": [
    "## 4. Построение модели логистической регрессии для предсказания качества алмаза"
   ]
  },
  {
   "cell_type": "markdown",
   "metadata": {
    "id": "jUgvVuJpVP_d"
   },
   "source": [
    "### 4.1 Кросс-валидация модели"
   ]
  },
  {
   "cell_type": "code",
   "execution_count": 196,
   "metadata": {
    "colab": {
     "base_uri": "https://localhost:8080/"
    },
    "id": "fZKKWlv5VSj5",
    "outputId": "77bf6264-b075-4d60-a913-3572a2416569"
   },
   "outputs": [
    {
     "name": "stdout",
     "output_type": "stream",
     "text": [
      "Средняя точность при кросс-валидации: 0.9575\n",
      "Отклонение точности: 0.0007\n"
     ]
    }
   ],
   "source": [
    "from sklearn.model_selection import cross_val_score\n",
    "\n",
    "# Кросс-валидация с 5 фолдами\n",
    "scores = cross_val_score(model, X_processed, Y, cv=5, scoring='accuracy')\n",
    "\n",
    "print(f\"Средняя точность при кросс-валидации: {scores.mean():.4f}\")\n",
    "print(f\"Отклонение точности: {scores.std():.4f}\")"
   ]
  },
  {
   "cell_type": "code",
   "execution_count": 197,
   "metadata": {
    "id": "ym4BKDocVbhN"
   },
   "outputs": [],
   "source": [
    "X_train, X_test, Y_train, Y_test = train_test_split(X_processed, Y, test_size=0.2, random_state=42, stratify=Y)"
   ]
  },
  {
   "cell_type": "markdown",
   "metadata": {
    "id": "_xZekN3yVler"
   },
   "source": [
    "### 4.2 Построение ROC-кривой"
   ]
  },
  {
   "cell_type": "code",
   "execution_count": 198,
   "metadata": {
    "colab": {
     "base_uri": "https://localhost:8080/",
     "height": 564
    },
    "id": "lpzY-X-0VVTb",
    "outputId": "df8febe9-9b67-44f8-a1ff-14506a6f72dd"
   },
   "outputs": [
    {
     "data": {
      "image/png": "[encoded data removed]",
      "text/plain": [
       "<Figure size 800x600 with 1 Axes>"
      ]
     },
     "metadata": {},
     "output_type": "display_data"
    }
   ],
   "source": [
    "from sklearn.metrics import roc_curve, auc\n",
    "\n",
    "# Предсказания вероятностей для тестовой выборки\n",
    "Y_test_prob = model.predict_proba(X_test)[:, 1]\n",
    "\n",
    "# Расчет ROC-кривой\n",
    "fpr, tpr, thresholds = roc_curve(Y_test, Y_test_prob)\n",
    "roc_auc = auc(fpr, tpr)\n",
    "\n",
    "# Построение графика\n",
    "plt.figure(figsize=(8,6))\n",
    "plt.plot(fpr, tpr, label=f'ROC curve (area = {roc_auc:.2f})')\n",
    "plt.plot([0,1], [0,1], 'k--')\n",
    "plt.xlabel('False Positive Rate')\n",
    "plt.ylabel('True Positive Rate')\n",
    "plt.title('ROC-кривая')\n",
    "plt.legend(loc='lower right')\n",
    "plt.show()"
   ]
  }
 ],
 "metadata": {
  "colab": {
   "authorship_tag": "ABX9TyMDCgFxx35TfDs+mGtNZIQ2",
   "collapsed_sections": [
    "nSVkl345PZOK"
   ],
   "include_colab_link": true,
   "provenance": []
  },
  "kernelspec": {
   "display_name": "Python 3 (ipykernel)",
   "language": "python",
   "name": "python3"
  },
  "language_info": {
   "codemirror_mode": {
    "name": "ipython",
    "version": 3
   },
   "file_extension": ".py",
   "mimetype": "text/x-python",
   "name": "python",
   "nbconvert_exporter": "python",
   "pygments_lexer": "ipython3",
   "version": "3.12.4"
  }
 },
 "nbformat": 4,
 "nbformat_minor": 4
}
